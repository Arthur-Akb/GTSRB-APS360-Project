{
  "nbformat": 4,
  "nbformat_minor": 0,
  "metadata": {
    "colab": {
      "provenance": [],
      "include_colab_link": true
    },
    "kernelspec": {
      "name": "python3",
      "display_name": "Python 3"
    },
    "language_info": {
      "name": "python"
    },
    "gpuClass": "standard",
    "widgets": {
      "application/vnd.jupyter.widget-state+json": {
        "3446d9de994c45b49eb74f9afbc67def": {
          "model_module": "@jupyter-widgets/controls",
          "model_name": "HBoxModel",
          "model_module_version": "1.5.0",
          "state": {
            "_dom_classes": [],
            "_model_module": "@jupyter-widgets/controls",
            "_model_module_version": "1.5.0",
            "_model_name": "HBoxModel",
            "_view_count": null,
            "_view_module": "@jupyter-widgets/controls",
            "_view_module_version": "1.5.0",
            "_view_name": "HBoxView",
            "box_style": "",
            "children": [
              "IPY_MODEL_c053fe3966e549c3b6d2600096fad31e",
              "IPY_MODEL_00757d346cf04d34ad6b90abf07081d8",
              "IPY_MODEL_6c12e93f0b1f43fbb44c73900f27ce3f"
            ],
            "layout": "IPY_MODEL_06b5bb89aa1d4b1c85e57a9e82f9c18a"
          }
        },
        "c053fe3966e549c3b6d2600096fad31e": {
          "model_module": "@jupyter-widgets/controls",
          "model_name": "HTMLModel",
          "model_module_version": "1.5.0",
          "state": {
            "_dom_classes": [],
            "_model_module": "@jupyter-widgets/controls",
            "_model_module_version": "1.5.0",
            "_model_name": "HTMLModel",
            "_view_count": null,
            "_view_module": "@jupyter-widgets/controls",
            "_view_module_version": "1.5.0",
            "_view_name": "HTMLView",
            "description": "",
            "description_tooltip": null,
            "layout": "IPY_MODEL_a218153a8f17427e9122a63497fd60da",
            "placeholder": "​",
            "style": "IPY_MODEL_a7df4ec4349242059f97ada957ec48a6",
            "value": "100%"
          }
        },
        "00757d346cf04d34ad6b90abf07081d8": {
          "model_module": "@jupyter-widgets/controls",
          "model_name": "FloatProgressModel",
          "model_module_version": "1.5.0",
          "state": {
            "_dom_classes": [],
            "_model_module": "@jupyter-widgets/controls",
            "_model_module_version": "1.5.0",
            "_model_name": "FloatProgressModel",
            "_view_count": null,
            "_view_module": "@jupyter-widgets/controls",
            "_view_module_version": "1.5.0",
            "_view_name": "ProgressView",
            "bar_style": "success",
            "description": "",
            "description_tooltip": null,
            "layout": "IPY_MODEL_935556eca60c484c8c929d937e17f0fb",
            "max": 88978620,
            "min": 0,
            "orientation": "horizontal",
            "style": "IPY_MODEL_c8e72108ae514876a43da4f6887411df",
            "value": 88978620
          }
        },
        "6c12e93f0b1f43fbb44c73900f27ce3f": {
          "model_module": "@jupyter-widgets/controls",
          "model_name": "HTMLModel",
          "model_module_version": "1.5.0",
          "state": {
            "_dom_classes": [],
            "_model_module": "@jupyter-widgets/controls",
            "_model_module_version": "1.5.0",
            "_model_name": "HTMLModel",
            "_view_count": null,
            "_view_module": "@jupyter-widgets/controls",
            "_view_module_version": "1.5.0",
            "_view_name": "HTMLView",
            "description": "",
            "description_tooltip": null,
            "layout": "IPY_MODEL_488f0b11922149abb627430128e8294e",
            "placeholder": "​",
            "style": "IPY_MODEL_5a6bb768a8e3466298bc496cbe41a99b",
            "value": " 88978620/88978620 [00:06&lt;00:00, 17245177.33it/s]"
          }
        },
        "06b5bb89aa1d4b1c85e57a9e82f9c18a": {
          "model_module": "@jupyter-widgets/base",
          "model_name": "LayoutModel",
          "model_module_version": "1.2.0",
          "state": {
            "_model_module": "@jupyter-widgets/base",
            "_model_module_version": "1.2.0",
            "_model_name": "LayoutModel",
            "_view_count": null,
            "_view_module": "@jupyter-widgets/base",
            "_view_module_version": "1.2.0",
            "_view_name": "LayoutView",
            "align_content": null,
            "align_items": null,
            "align_self": null,
            "border": null,
            "bottom": null,
            "display": null,
            "flex": null,
            "flex_flow": null,
            "grid_area": null,
            "grid_auto_columns": null,
            "grid_auto_flow": null,
            "grid_auto_rows": null,
            "grid_column": null,
            "grid_gap": null,
            "grid_row": null,
            "grid_template_areas": null,
            "grid_template_columns": null,
            "grid_template_rows": null,
            "height": null,
            "justify_content": null,
            "justify_items": null,
            "left": null,
            "margin": null,
            "max_height": null,
            "max_width": null,
            "min_height": null,
            "min_width": null,
            "object_fit": null,
            "object_position": null,
            "order": null,
            "overflow": null,
            "overflow_x": null,
            "overflow_y": null,
            "padding": null,
            "right": null,
            "top": null,
            "visibility": null,
            "width": null
          }
        },
        "a218153a8f17427e9122a63497fd60da": {
          "model_module": "@jupyter-widgets/base",
          "model_name": "LayoutModel",
          "model_module_version": "1.2.0",
          "state": {
            "_model_module": "@jupyter-widgets/base",
            "_model_module_version": "1.2.0",
            "_model_name": "LayoutModel",
            "_view_count": null,
            "_view_module": "@jupyter-widgets/base",
            "_view_module_version": "1.2.0",
            "_view_name": "LayoutView",
            "align_content": null,
            "align_items": null,
            "align_self": null,
            "border": null,
            "bottom": null,
            "display": null,
            "flex": null,
            "flex_flow": null,
            "grid_area": null,
            "grid_auto_columns": null,
            "grid_auto_flow": null,
            "grid_auto_rows": null,
            "grid_column": null,
            "grid_gap": null,
            "grid_row": null,
            "grid_template_areas": null,
            "grid_template_columns": null,
            "grid_template_rows": null,
            "height": null,
            "justify_content": null,
            "justify_items": null,
            "left": null,
            "margin": null,
            "max_height": null,
            "max_width": null,
            "min_height": null,
            "min_width": null,
            "object_fit": null,
            "object_position": null,
            "order": null,
            "overflow": null,
            "overflow_x": null,
            "overflow_y": null,
            "padding": null,
            "right": null,
            "top": null,
            "visibility": null,
            "width": null
          }
        },
        "a7df4ec4349242059f97ada957ec48a6": {
          "model_module": "@jupyter-widgets/controls",
          "model_name": "DescriptionStyleModel",
          "model_module_version": "1.5.0",
          "state": {
            "_model_module": "@jupyter-widgets/controls",
            "_model_module_version": "1.5.0",
            "_model_name": "DescriptionStyleModel",
            "_view_count": null,
            "_view_module": "@jupyter-widgets/base",
            "_view_module_version": "1.2.0",
            "_view_name": "StyleView",
            "description_width": ""
          }
        },
        "935556eca60c484c8c929d937e17f0fb": {
          "model_module": "@jupyter-widgets/base",
          "model_name": "LayoutModel",
          "model_module_version": "1.2.0",
          "state": {
            "_model_module": "@jupyter-widgets/base",
            "_model_module_version": "1.2.0",
            "_model_name": "LayoutModel",
            "_view_count": null,
            "_view_module": "@jupyter-widgets/base",
            "_view_module_version": "1.2.0",
            "_view_name": "LayoutView",
            "align_content": null,
            "align_items": null,
            "align_self": null,
            "border": null,
            "bottom": null,
            "display": null,
            "flex": null,
            "flex_flow": null,
            "grid_area": null,
            "grid_auto_columns": null,
            "grid_auto_flow": null,
            "grid_auto_rows": null,
            "grid_column": null,
            "grid_gap": null,
            "grid_row": null,
            "grid_template_areas": null,
            "grid_template_columns": null,
            "grid_template_rows": null,
            "height": null,
            "justify_content": null,
            "justify_items": null,
            "left": null,
            "margin": null,
            "max_height": null,
            "max_width": null,
            "min_height": null,
            "min_width": null,
            "object_fit": null,
            "object_position": null,
            "order": null,
            "overflow": null,
            "overflow_x": null,
            "overflow_y": null,
            "padding": null,
            "right": null,
            "top": null,
            "visibility": null,
            "width": null
          }
        },
        "c8e72108ae514876a43da4f6887411df": {
          "model_module": "@jupyter-widgets/controls",
          "model_name": "ProgressStyleModel",
          "model_module_version": "1.5.0",
          "state": {
            "_model_module": "@jupyter-widgets/controls",
            "_model_module_version": "1.5.0",
            "_model_name": "ProgressStyleModel",
            "_view_count": null,
            "_view_module": "@jupyter-widgets/base",
            "_view_module_version": "1.2.0",
            "_view_name": "StyleView",
            "bar_color": null,
            "description_width": ""
          }
        },
        "488f0b11922149abb627430128e8294e": {
          "model_module": "@jupyter-widgets/base",
          "model_name": "LayoutModel",
          "model_module_version": "1.2.0",
          "state": {
            "_model_module": "@jupyter-widgets/base",
            "_model_module_version": "1.2.0",
            "_model_name": "LayoutModel",
            "_view_count": null,
            "_view_module": "@jupyter-widgets/base",
            "_view_module_version": "1.2.0",
            "_view_name": "LayoutView",
            "align_content": null,
            "align_items": null,
            "align_self": null,
            "border": null,
            "bottom": null,
            "display": null,
            "flex": null,
            "flex_flow": null,
            "grid_area": null,
            "grid_auto_columns": null,
            "grid_auto_flow": null,
            "grid_auto_rows": null,
            "grid_column": null,
            "grid_gap": null,
            "grid_row": null,
            "grid_template_areas": null,
            "grid_template_columns": null,
            "grid_template_rows": null,
            "height": null,
            "justify_content": null,
            "justify_items": null,
            "left": null,
            "margin": null,
            "max_height": null,
            "max_width": null,
            "min_height": null,
            "min_width": null,
            "object_fit": null,
            "object_position": null,
            "order": null,
            "overflow": null,
            "overflow_x": null,
            "overflow_y": null,
            "padding": null,
            "right": null,
            "top": null,
            "visibility": null,
            "width": null
          }
        },
        "5a6bb768a8e3466298bc496cbe41a99b": {
          "model_module": "@jupyter-widgets/controls",
          "model_name": "DescriptionStyleModel",
          "model_module_version": "1.5.0",
          "state": {
            "_model_module": "@jupyter-widgets/controls",
            "_model_module_version": "1.5.0",
            "_model_name": "DescriptionStyleModel",
            "_view_count": null,
            "_view_module": "@jupyter-widgets/base",
            "_view_module_version": "1.2.0",
            "_view_name": "StyleView",
            "description_width": ""
          }
        },
        "56926c841a1248b2ab424dfe924c738d": {
          "model_module": "@jupyter-widgets/controls",
          "model_name": "HBoxModel",
          "model_module_version": "1.5.0",
          "state": {
            "_dom_classes": [],
            "_model_module": "@jupyter-widgets/controls",
            "_model_module_version": "1.5.0",
            "_model_name": "HBoxModel",
            "_view_count": null,
            "_view_module": "@jupyter-widgets/controls",
            "_view_module_version": "1.5.0",
            "_view_name": "HBoxView",
            "box_style": "",
            "children": [
              "IPY_MODEL_bdd63649afea446688825d0718a56596",
              "IPY_MODEL_fd8989e37384452aa81686e8343bf686",
              "IPY_MODEL_8410d54148204b7f940eafa33cf92307"
            ],
            "layout": "IPY_MODEL_9003c03649ca4322b9c24d5ac68c22f8"
          }
        },
        "bdd63649afea446688825d0718a56596": {
          "model_module": "@jupyter-widgets/controls",
          "model_name": "HTMLModel",
          "model_module_version": "1.5.0",
          "state": {
            "_dom_classes": [],
            "_model_module": "@jupyter-widgets/controls",
            "_model_module_version": "1.5.0",
            "_model_name": "HTMLModel",
            "_view_count": null,
            "_view_module": "@jupyter-widgets/controls",
            "_view_module_version": "1.5.0",
            "_view_name": "HTMLView",
            "description": "",
            "description_tooltip": null,
            "layout": "IPY_MODEL_7bd49856ce604a2c87bd8668b2f359ca",
            "placeholder": "​",
            "style": "IPY_MODEL_dd50654b8c294f5f81392608d546336a",
            "value": "100%"
          }
        },
        "fd8989e37384452aa81686e8343bf686": {
          "model_module": "@jupyter-widgets/controls",
          "model_name": "FloatProgressModel",
          "model_module_version": "1.5.0",
          "state": {
            "_dom_classes": [],
            "_model_module": "@jupyter-widgets/controls",
            "_model_module_version": "1.5.0",
            "_model_name": "FloatProgressModel",
            "_view_count": null,
            "_view_module": "@jupyter-widgets/controls",
            "_view_module_version": "1.5.0",
            "_view_name": "ProgressView",
            "bar_style": "success",
            "description": "",
            "description_tooltip": null,
            "layout": "IPY_MODEL_2735ad646a824185b17855079601735b",
            "max": 99620,
            "min": 0,
            "orientation": "horizontal",
            "style": "IPY_MODEL_de8c3bcc0a2f4462b0bdfb7834ee9ed8",
            "value": 99620
          }
        },
        "8410d54148204b7f940eafa33cf92307": {
          "model_module": "@jupyter-widgets/controls",
          "model_name": "HTMLModel",
          "model_module_version": "1.5.0",
          "state": {
            "_dom_classes": [],
            "_model_module": "@jupyter-widgets/controls",
            "_model_module_version": "1.5.0",
            "_model_name": "HTMLModel",
            "_view_count": null,
            "_view_module": "@jupyter-widgets/controls",
            "_view_module_version": "1.5.0",
            "_view_name": "HTMLView",
            "description": "",
            "description_tooltip": null,
            "layout": "IPY_MODEL_17afb3c7380248d582d5892c89d2da3b",
            "placeholder": "​",
            "style": "IPY_MODEL_c98c435305df4d57a6f238c6b50367fa",
            "value": " 99620/99620 [00:00&lt;00:00, 206634.30it/s]"
          }
        },
        "9003c03649ca4322b9c24d5ac68c22f8": {
          "model_module": "@jupyter-widgets/base",
          "model_name": "LayoutModel",
          "model_module_version": "1.2.0",
          "state": {
            "_model_module": "@jupyter-widgets/base",
            "_model_module_version": "1.2.0",
            "_model_name": "LayoutModel",
            "_view_count": null,
            "_view_module": "@jupyter-widgets/base",
            "_view_module_version": "1.2.0",
            "_view_name": "LayoutView",
            "align_content": null,
            "align_items": null,
            "align_self": null,
            "border": null,
            "bottom": null,
            "display": null,
            "flex": null,
            "flex_flow": null,
            "grid_area": null,
            "grid_auto_columns": null,
            "grid_auto_flow": null,
            "grid_auto_rows": null,
            "grid_column": null,
            "grid_gap": null,
            "grid_row": null,
            "grid_template_areas": null,
            "grid_template_columns": null,
            "grid_template_rows": null,
            "height": null,
            "justify_content": null,
            "justify_items": null,
            "left": null,
            "margin": null,
            "max_height": null,
            "max_width": null,
            "min_height": null,
            "min_width": null,
            "object_fit": null,
            "object_position": null,
            "order": null,
            "overflow": null,
            "overflow_x": null,
            "overflow_y": null,
            "padding": null,
            "right": null,
            "top": null,
            "visibility": null,
            "width": null
          }
        },
        "7bd49856ce604a2c87bd8668b2f359ca": {
          "model_module": "@jupyter-widgets/base",
          "model_name": "LayoutModel",
          "model_module_version": "1.2.0",
          "state": {
            "_model_module": "@jupyter-widgets/base",
            "_model_module_version": "1.2.0",
            "_model_name": "LayoutModel",
            "_view_count": null,
            "_view_module": "@jupyter-widgets/base",
            "_view_module_version": "1.2.0",
            "_view_name": "LayoutView",
            "align_content": null,
            "align_items": null,
            "align_self": null,
            "border": null,
            "bottom": null,
            "display": null,
            "flex": null,
            "flex_flow": null,
            "grid_area": null,
            "grid_auto_columns": null,
            "grid_auto_flow": null,
            "grid_auto_rows": null,
            "grid_column": null,
            "grid_gap": null,
            "grid_row": null,
            "grid_template_areas": null,
            "grid_template_columns": null,
            "grid_template_rows": null,
            "height": null,
            "justify_content": null,
            "justify_items": null,
            "left": null,
            "margin": null,
            "max_height": null,
            "max_width": null,
            "min_height": null,
            "min_width": null,
            "object_fit": null,
            "object_position": null,
            "order": null,
            "overflow": null,
            "overflow_x": null,
            "overflow_y": null,
            "padding": null,
            "right": null,
            "top": null,
            "visibility": null,
            "width": null
          }
        },
        "dd50654b8c294f5f81392608d546336a": {
          "model_module": "@jupyter-widgets/controls",
          "model_name": "DescriptionStyleModel",
          "model_module_version": "1.5.0",
          "state": {
            "_model_module": "@jupyter-widgets/controls",
            "_model_module_version": "1.5.0",
            "_model_name": "DescriptionStyleModel",
            "_view_count": null,
            "_view_module": "@jupyter-widgets/base",
            "_view_module_version": "1.2.0",
            "_view_name": "StyleView",
            "description_width": ""
          }
        },
        "2735ad646a824185b17855079601735b": {
          "model_module": "@jupyter-widgets/base",
          "model_name": "LayoutModel",
          "model_module_version": "1.2.0",
          "state": {
            "_model_module": "@jupyter-widgets/base",
            "_model_module_version": "1.2.0",
            "_model_name": "LayoutModel",
            "_view_count": null,
            "_view_module": "@jupyter-widgets/base",
            "_view_module_version": "1.2.0",
            "_view_name": "LayoutView",
            "align_content": null,
            "align_items": null,
            "align_self": null,
            "border": null,
            "bottom": null,
            "display": null,
            "flex": null,
            "flex_flow": null,
            "grid_area": null,
            "grid_auto_columns": null,
            "grid_auto_flow": null,
            "grid_auto_rows": null,
            "grid_column": null,
            "grid_gap": null,
            "grid_row": null,
            "grid_template_areas": null,
            "grid_template_columns": null,
            "grid_template_rows": null,
            "height": null,
            "justify_content": null,
            "justify_items": null,
            "left": null,
            "margin": null,
            "max_height": null,
            "max_width": null,
            "min_height": null,
            "min_width": null,
            "object_fit": null,
            "object_position": null,
            "order": null,
            "overflow": null,
            "overflow_x": null,
            "overflow_y": null,
            "padding": null,
            "right": null,
            "top": null,
            "visibility": null,
            "width": null
          }
        },
        "de8c3bcc0a2f4462b0bdfb7834ee9ed8": {
          "model_module": "@jupyter-widgets/controls",
          "model_name": "ProgressStyleModel",
          "model_module_version": "1.5.0",
          "state": {
            "_model_module": "@jupyter-widgets/controls",
            "_model_module_version": "1.5.0",
            "_model_name": "ProgressStyleModel",
            "_view_count": null,
            "_view_module": "@jupyter-widgets/base",
            "_view_module_version": "1.2.0",
            "_view_name": "StyleView",
            "bar_color": null,
            "description_width": ""
          }
        },
        "17afb3c7380248d582d5892c89d2da3b": {
          "model_module": "@jupyter-widgets/base",
          "model_name": "LayoutModel",
          "model_module_version": "1.2.0",
          "state": {
            "_model_module": "@jupyter-widgets/base",
            "_model_module_version": "1.2.0",
            "_model_name": "LayoutModel",
            "_view_count": null,
            "_view_module": "@jupyter-widgets/base",
            "_view_module_version": "1.2.0",
            "_view_name": "LayoutView",
            "align_content": null,
            "align_items": null,
            "align_self": null,
            "border": null,
            "bottom": null,
            "display": null,
            "flex": null,
            "flex_flow": null,
            "grid_area": null,
            "grid_auto_columns": null,
            "grid_auto_flow": null,
            "grid_auto_rows": null,
            "grid_column": null,
            "grid_gap": null,
            "grid_row": null,
            "grid_template_areas": null,
            "grid_template_columns": null,
            "grid_template_rows": null,
            "height": null,
            "justify_content": null,
            "justify_items": null,
            "left": null,
            "margin": null,
            "max_height": null,
            "max_width": null,
            "min_height": null,
            "min_width": null,
            "object_fit": null,
            "object_position": null,
            "order": null,
            "overflow": null,
            "overflow_x": null,
            "overflow_y": null,
            "padding": null,
            "right": null,
            "top": null,
            "visibility": null,
            "width": null
          }
        },
        "c98c435305df4d57a6f238c6b50367fa": {
          "model_module": "@jupyter-widgets/controls",
          "model_name": "DescriptionStyleModel",
          "model_module_version": "1.5.0",
          "state": {
            "_model_module": "@jupyter-widgets/controls",
            "_model_module_version": "1.5.0",
            "_model_name": "DescriptionStyleModel",
            "_view_count": null,
            "_view_module": "@jupyter-widgets/base",
            "_view_module_version": "1.2.0",
            "_view_name": "StyleView",
            "description_width": ""
          }
        },
        "eab433a0034b4b3096667cf589b121ad": {
          "model_module": "@jupyter-widgets/controls",
          "model_name": "HBoxModel",
          "model_module_version": "1.5.0",
          "state": {
            "_dom_classes": [],
            "_model_module": "@jupyter-widgets/controls",
            "_model_module_version": "1.5.0",
            "_model_name": "HBoxModel",
            "_view_count": null,
            "_view_module": "@jupyter-widgets/controls",
            "_view_module_version": "1.5.0",
            "_view_name": "HBoxView",
            "box_style": "",
            "children": [
              "IPY_MODEL_f28d0c37357d43e3b45552bb9919adf9",
              "IPY_MODEL_e11af66826a847cc8db5c544abdfb8e8",
              "IPY_MODEL_f87aa7b533544810b293d463edd29176"
            ],
            "layout": "IPY_MODEL_a58b65404b4042aa83c02b3179053ef4"
          }
        },
        "f28d0c37357d43e3b45552bb9919adf9": {
          "model_module": "@jupyter-widgets/controls",
          "model_name": "HTMLModel",
          "model_module_version": "1.5.0",
          "state": {
            "_dom_classes": [],
            "_model_module": "@jupyter-widgets/controls",
            "_model_module_version": "1.5.0",
            "_model_name": "HTMLModel",
            "_view_count": null,
            "_view_module": "@jupyter-widgets/controls",
            "_view_module_version": "1.5.0",
            "_view_name": "HTMLView",
            "description": "",
            "description_tooltip": null,
            "layout": "IPY_MODEL_b4883361562f4e4c80b024ccf650e0c4",
            "placeholder": "​",
            "style": "IPY_MODEL_d4669be939ba4e9f8e8b9d9cec3dbef7",
            "value": "100%"
          }
        },
        "e11af66826a847cc8db5c544abdfb8e8": {
          "model_module": "@jupyter-widgets/controls",
          "model_name": "FloatProgressModel",
          "model_module_version": "1.5.0",
          "state": {
            "_dom_classes": [],
            "_model_module": "@jupyter-widgets/controls",
            "_model_module_version": "1.5.0",
            "_model_name": "FloatProgressModel",
            "_view_count": null,
            "_view_module": "@jupyter-widgets/controls",
            "_view_module_version": "1.5.0",
            "_view_name": "ProgressView",
            "bar_style": "success",
            "description": "",
            "description_tooltip": null,
            "layout": "IPY_MODEL_87dcbe38fb274de0ab5092252f3eea24",
            "max": 187490228,
            "min": 0,
            "orientation": "horizontal",
            "style": "IPY_MODEL_65afcb9e505f4d3e8ba6b653709a24af",
            "value": 187490228
          }
        },
        "f87aa7b533544810b293d463edd29176": {
          "model_module": "@jupyter-widgets/controls",
          "model_name": "HTMLModel",
          "model_module_version": "1.5.0",
          "state": {
            "_dom_classes": [],
            "_model_module": "@jupyter-widgets/controls",
            "_model_module_version": "1.5.0",
            "_model_name": "HTMLModel",
            "_view_count": null,
            "_view_module": "@jupyter-widgets/controls",
            "_view_module_version": "1.5.0",
            "_view_name": "HTMLView",
            "description": "",
            "description_tooltip": null,
            "layout": "IPY_MODEL_f8ad9d080ff74d7d9e862ae976d0e0a7",
            "placeholder": "​",
            "style": "IPY_MODEL_e791e34565a747a39893e6db706230fb",
            "value": " 187490228/187490228 [00:11&lt;00:00, 18809701.64it/s]"
          }
        },
        "a58b65404b4042aa83c02b3179053ef4": {
          "model_module": "@jupyter-widgets/base",
          "model_name": "LayoutModel",
          "model_module_version": "1.2.0",
          "state": {
            "_model_module": "@jupyter-widgets/base",
            "_model_module_version": "1.2.0",
            "_model_name": "LayoutModel",
            "_view_count": null,
            "_view_module": "@jupyter-widgets/base",
            "_view_module_version": "1.2.0",
            "_view_name": "LayoutView",
            "align_content": null,
            "align_items": null,
            "align_self": null,
            "border": null,
            "bottom": null,
            "display": null,
            "flex": null,
            "flex_flow": null,
            "grid_area": null,
            "grid_auto_columns": null,
            "grid_auto_flow": null,
            "grid_auto_rows": null,
            "grid_column": null,
            "grid_gap": null,
            "grid_row": null,
            "grid_template_areas": null,
            "grid_template_columns": null,
            "grid_template_rows": null,
            "height": null,
            "justify_content": null,
            "justify_items": null,
            "left": null,
            "margin": null,
            "max_height": null,
            "max_width": null,
            "min_height": null,
            "min_width": null,
            "object_fit": null,
            "object_position": null,
            "order": null,
            "overflow": null,
            "overflow_x": null,
            "overflow_y": null,
            "padding": null,
            "right": null,
            "top": null,
            "visibility": null,
            "width": null
          }
        },
        "b4883361562f4e4c80b024ccf650e0c4": {
          "model_module": "@jupyter-widgets/base",
          "model_name": "LayoutModel",
          "model_module_version": "1.2.0",
          "state": {
            "_model_module": "@jupyter-widgets/base",
            "_model_module_version": "1.2.0",
            "_model_name": "LayoutModel",
            "_view_count": null,
            "_view_module": "@jupyter-widgets/base",
            "_view_module_version": "1.2.0",
            "_view_name": "LayoutView",
            "align_content": null,
            "align_items": null,
            "align_self": null,
            "border": null,
            "bottom": null,
            "display": null,
            "flex": null,
            "flex_flow": null,
            "grid_area": null,
            "grid_auto_columns": null,
            "grid_auto_flow": null,
            "grid_auto_rows": null,
            "grid_column": null,
            "grid_gap": null,
            "grid_row": null,
            "grid_template_areas": null,
            "grid_template_columns": null,
            "grid_template_rows": null,
            "height": null,
            "justify_content": null,
            "justify_items": null,
            "left": null,
            "margin": null,
            "max_height": null,
            "max_width": null,
            "min_height": null,
            "min_width": null,
            "object_fit": null,
            "object_position": null,
            "order": null,
            "overflow": null,
            "overflow_x": null,
            "overflow_y": null,
            "padding": null,
            "right": null,
            "top": null,
            "visibility": null,
            "width": null
          }
        },
        "d4669be939ba4e9f8e8b9d9cec3dbef7": {
          "model_module": "@jupyter-widgets/controls",
          "model_name": "DescriptionStyleModel",
          "model_module_version": "1.5.0",
          "state": {
            "_model_module": "@jupyter-widgets/controls",
            "_model_module_version": "1.5.0",
            "_model_name": "DescriptionStyleModel",
            "_view_count": null,
            "_view_module": "@jupyter-widgets/base",
            "_view_module_version": "1.2.0",
            "_view_name": "StyleView",
            "description_width": ""
          }
        },
        "87dcbe38fb274de0ab5092252f3eea24": {
          "model_module": "@jupyter-widgets/base",
          "model_name": "LayoutModel",
          "model_module_version": "1.2.0",
          "state": {
            "_model_module": "@jupyter-widgets/base",
            "_model_module_version": "1.2.0",
            "_model_name": "LayoutModel",
            "_view_count": null,
            "_view_module": "@jupyter-widgets/base",
            "_view_module_version": "1.2.0",
            "_view_name": "LayoutView",
            "align_content": null,
            "align_items": null,
            "align_self": null,
            "border": null,
            "bottom": null,
            "display": null,
            "flex": null,
            "flex_flow": null,
            "grid_area": null,
            "grid_auto_columns": null,
            "grid_auto_flow": null,
            "grid_auto_rows": null,
            "grid_column": null,
            "grid_gap": null,
            "grid_row": null,
            "grid_template_areas": null,
            "grid_template_columns": null,
            "grid_template_rows": null,
            "height": null,
            "justify_content": null,
            "justify_items": null,
            "left": null,
            "margin": null,
            "max_height": null,
            "max_width": null,
            "min_height": null,
            "min_width": null,
            "object_fit": null,
            "object_position": null,
            "order": null,
            "overflow": null,
            "overflow_x": null,
            "overflow_y": null,
            "padding": null,
            "right": null,
            "top": null,
            "visibility": null,
            "width": null
          }
        },
        "65afcb9e505f4d3e8ba6b653709a24af": {
          "model_module": "@jupyter-widgets/controls",
          "model_name": "ProgressStyleModel",
          "model_module_version": "1.5.0",
          "state": {
            "_model_module": "@jupyter-widgets/controls",
            "_model_module_version": "1.5.0",
            "_model_name": "ProgressStyleModel",
            "_view_count": null,
            "_view_module": "@jupyter-widgets/base",
            "_view_module_version": "1.2.0",
            "_view_name": "StyleView",
            "bar_color": null,
            "description_width": ""
          }
        },
        "f8ad9d080ff74d7d9e862ae976d0e0a7": {
          "model_module": "@jupyter-widgets/base",
          "model_name": "LayoutModel",
          "model_module_version": "1.2.0",
          "state": {
            "_model_module": "@jupyter-widgets/base",
            "_model_module_version": "1.2.0",
            "_model_name": "LayoutModel",
            "_view_count": null,
            "_view_module": "@jupyter-widgets/base",
            "_view_module_version": "1.2.0",
            "_view_name": "LayoutView",
            "align_content": null,
            "align_items": null,
            "align_self": null,
            "border": null,
            "bottom": null,
            "display": null,
            "flex": null,
            "flex_flow": null,
            "grid_area": null,
            "grid_auto_columns": null,
            "grid_auto_flow": null,
            "grid_auto_rows": null,
            "grid_column": null,
            "grid_gap": null,
            "grid_row": null,
            "grid_template_areas": null,
            "grid_template_columns": null,
            "grid_template_rows": null,
            "height": null,
            "justify_content": null,
            "justify_items": null,
            "left": null,
            "margin": null,
            "max_height": null,
            "max_width": null,
            "min_height": null,
            "min_width": null,
            "object_fit": null,
            "object_position": null,
            "order": null,
            "overflow": null,
            "overflow_x": null,
            "overflow_y": null,
            "padding": null,
            "right": null,
            "top": null,
            "visibility": null,
            "width": null
          }
        },
        "e791e34565a747a39893e6db706230fb": {
          "model_module": "@jupyter-widgets/controls",
          "model_name": "DescriptionStyleModel",
          "model_module_version": "1.5.0",
          "state": {
            "_model_module": "@jupyter-widgets/controls",
            "_model_module_version": "1.5.0",
            "_model_name": "DescriptionStyleModel",
            "_view_count": null,
            "_view_module": "@jupyter-widgets/base",
            "_view_module_version": "1.2.0",
            "_view_name": "StyleView",
            "description_width": ""
          }
        },
        "3048028cd2c4407fad507558767c3707": {
          "model_module": "@jupyter-widgets/controls",
          "model_name": "HBoxModel",
          "model_module_version": "1.5.0",
          "state": {
            "_dom_classes": [],
            "_model_module": "@jupyter-widgets/controls",
            "_model_module_version": "1.5.0",
            "_model_name": "HBoxModel",
            "_view_count": null,
            "_view_module": "@jupyter-widgets/controls",
            "_view_module_version": "1.5.0",
            "_view_name": "HBoxView",
            "box_style": "",
            "children": [
              "IPY_MODEL_422603f61e854c9ab474b64a0247c7cf",
              "IPY_MODEL_18c922afcaed4757b63bbeaa96707cca",
              "IPY_MODEL_a3063e81cabb4c7d93e22a3193f286d0"
            ],
            "layout": "IPY_MODEL_da56ac6eaee14bee906187fca86bba73"
          }
        },
        "422603f61e854c9ab474b64a0247c7cf": {
          "model_module": "@jupyter-widgets/controls",
          "model_name": "HTMLModel",
          "model_module_version": "1.5.0",
          "state": {
            "_dom_classes": [],
            "_model_module": "@jupyter-widgets/controls",
            "_model_module_version": "1.5.0",
            "_model_name": "HTMLModel",
            "_view_count": null,
            "_view_module": "@jupyter-widgets/controls",
            "_view_module_version": "1.5.0",
            "_view_name": "HTMLView",
            "description": "",
            "description_tooltip": null,
            "layout": "IPY_MODEL_214389796232437a93f1331a5b4da398",
            "placeholder": "​",
            "style": "IPY_MODEL_d2a4963420e744eda8de838c5638946e",
            "value": "100%"
          }
        },
        "18c922afcaed4757b63bbeaa96707cca": {
          "model_module": "@jupyter-widgets/controls",
          "model_name": "FloatProgressModel",
          "model_module_version": "1.5.0",
          "state": {
            "_dom_classes": [],
            "_model_module": "@jupyter-widgets/controls",
            "_model_module_version": "1.5.0",
            "_model_name": "FloatProgressModel",
            "_view_count": null,
            "_view_module": "@jupyter-widgets/controls",
            "_view_module_version": "1.5.0",
            "_view_name": "ProgressView",
            "bar_style": "success",
            "description": "",
            "description_tooltip": null,
            "layout": "IPY_MODEL_a924c3308e7741218388e07b62fefa85",
            "max": 187490228,
            "min": 0,
            "orientation": "horizontal",
            "style": "IPY_MODEL_91d0781675424dacb90df89dff58bd9f",
            "value": 187490228
          }
        },
        "a3063e81cabb4c7d93e22a3193f286d0": {
          "model_module": "@jupyter-widgets/controls",
          "model_name": "HTMLModel",
          "model_module_version": "1.5.0",
          "state": {
            "_dom_classes": [],
            "_model_module": "@jupyter-widgets/controls",
            "_model_module_version": "1.5.0",
            "_model_name": "HTMLModel",
            "_view_count": null,
            "_view_module": "@jupyter-widgets/controls",
            "_view_module_version": "1.5.0",
            "_view_name": "HTMLView",
            "description": "",
            "description_tooltip": null,
            "layout": "IPY_MODEL_1770b1c10958414aa7c91a42789d01df",
            "placeholder": "​",
            "style": "IPY_MODEL_b7120bb224144e8c8c7c8e1af0aefaa4",
            "value": " 187490228/187490228 [00:08&lt;00:00, 24503495.14it/s]"
          }
        },
        "da56ac6eaee14bee906187fca86bba73": {
          "model_module": "@jupyter-widgets/base",
          "model_name": "LayoutModel",
          "model_module_version": "1.2.0",
          "state": {
            "_model_module": "@jupyter-widgets/base",
            "_model_module_version": "1.2.0",
            "_model_name": "LayoutModel",
            "_view_count": null,
            "_view_module": "@jupyter-widgets/base",
            "_view_module_version": "1.2.0",
            "_view_name": "LayoutView",
            "align_content": null,
            "align_items": null,
            "align_self": null,
            "border": null,
            "bottom": null,
            "display": null,
            "flex": null,
            "flex_flow": null,
            "grid_area": null,
            "grid_auto_columns": null,
            "grid_auto_flow": null,
            "grid_auto_rows": null,
            "grid_column": null,
            "grid_gap": null,
            "grid_row": null,
            "grid_template_areas": null,
            "grid_template_columns": null,
            "grid_template_rows": null,
            "height": null,
            "justify_content": null,
            "justify_items": null,
            "left": null,
            "margin": null,
            "max_height": null,
            "max_width": null,
            "min_height": null,
            "min_width": null,
            "object_fit": null,
            "object_position": null,
            "order": null,
            "overflow": null,
            "overflow_x": null,
            "overflow_y": null,
            "padding": null,
            "right": null,
            "top": null,
            "visibility": null,
            "width": null
          }
        },
        "214389796232437a93f1331a5b4da398": {
          "model_module": "@jupyter-widgets/base",
          "model_name": "LayoutModel",
          "model_module_version": "1.2.0",
          "state": {
            "_model_module": "@jupyter-widgets/base",
            "_model_module_version": "1.2.0",
            "_model_name": "LayoutModel",
            "_view_count": null,
            "_view_module": "@jupyter-widgets/base",
            "_view_module_version": "1.2.0",
            "_view_name": "LayoutView",
            "align_content": null,
            "align_items": null,
            "align_self": null,
            "border": null,
            "bottom": null,
            "display": null,
            "flex": null,
            "flex_flow": null,
            "grid_area": null,
            "grid_auto_columns": null,
            "grid_auto_flow": null,
            "grid_auto_rows": null,
            "grid_column": null,
            "grid_gap": null,
            "grid_row": null,
            "grid_template_areas": null,
            "grid_template_columns": null,
            "grid_template_rows": null,
            "height": null,
            "justify_content": null,
            "justify_items": null,
            "left": null,
            "margin": null,
            "max_height": null,
            "max_width": null,
            "min_height": null,
            "min_width": null,
            "object_fit": null,
            "object_position": null,
            "order": null,
            "overflow": null,
            "overflow_x": null,
            "overflow_y": null,
            "padding": null,
            "right": null,
            "top": null,
            "visibility": null,
            "width": null
          }
        },
        "d2a4963420e744eda8de838c5638946e": {
          "model_module": "@jupyter-widgets/controls",
          "model_name": "DescriptionStyleModel",
          "model_module_version": "1.5.0",
          "state": {
            "_model_module": "@jupyter-widgets/controls",
            "_model_module_version": "1.5.0",
            "_model_name": "DescriptionStyleModel",
            "_view_count": null,
            "_view_module": "@jupyter-widgets/base",
            "_view_module_version": "1.2.0",
            "_view_name": "StyleView",
            "description_width": ""
          }
        },
        "a924c3308e7741218388e07b62fefa85": {
          "model_module": "@jupyter-widgets/base",
          "model_name": "LayoutModel",
          "model_module_version": "1.2.0",
          "state": {
            "_model_module": "@jupyter-widgets/base",
            "_model_module_version": "1.2.0",
            "_model_name": "LayoutModel",
            "_view_count": null,
            "_view_module": "@jupyter-widgets/base",
            "_view_module_version": "1.2.0",
            "_view_name": "LayoutView",
            "align_content": null,
            "align_items": null,
            "align_self": null,
            "border": null,
            "bottom": null,
            "display": null,
            "flex": null,
            "flex_flow": null,
            "grid_area": null,
            "grid_auto_columns": null,
            "grid_auto_flow": null,
            "grid_auto_rows": null,
            "grid_column": null,
            "grid_gap": null,
            "grid_row": null,
            "grid_template_areas": null,
            "grid_template_columns": null,
            "grid_template_rows": null,
            "height": null,
            "justify_content": null,
            "justify_items": null,
            "left": null,
            "margin": null,
            "max_height": null,
            "max_width": null,
            "min_height": null,
            "min_width": null,
            "object_fit": null,
            "object_position": null,
            "order": null,
            "overflow": null,
            "overflow_x": null,
            "overflow_y": null,
            "padding": null,
            "right": null,
            "top": null,
            "visibility": null,
            "width": null
          }
        },
        "91d0781675424dacb90df89dff58bd9f": {
          "model_module": "@jupyter-widgets/controls",
          "model_name": "ProgressStyleModel",
          "model_module_version": "1.5.0",
          "state": {
            "_model_module": "@jupyter-widgets/controls",
            "_model_module_version": "1.5.0",
            "_model_name": "ProgressStyleModel",
            "_view_count": null,
            "_view_module": "@jupyter-widgets/base",
            "_view_module_version": "1.2.0",
            "_view_name": "StyleView",
            "bar_color": null,
            "description_width": ""
          }
        },
        "1770b1c10958414aa7c91a42789d01df": {
          "model_module": "@jupyter-widgets/base",
          "model_name": "LayoutModel",
          "model_module_version": "1.2.0",
          "state": {
            "_model_module": "@jupyter-widgets/base",
            "_model_module_version": "1.2.0",
            "_model_name": "LayoutModel",
            "_view_count": null,
            "_view_module": "@jupyter-widgets/base",
            "_view_module_version": "1.2.0",
            "_view_name": "LayoutView",
            "align_content": null,
            "align_items": null,
            "align_self": null,
            "border": null,
            "bottom": null,
            "display": null,
            "flex": null,
            "flex_flow": null,
            "grid_area": null,
            "grid_auto_columns": null,
            "grid_auto_flow": null,
            "grid_auto_rows": null,
            "grid_column": null,
            "grid_gap": null,
            "grid_row": null,
            "grid_template_areas": null,
            "grid_template_columns": null,
            "grid_template_rows": null,
            "height": null,
            "justify_content": null,
            "justify_items": null,
            "left": null,
            "margin": null,
            "max_height": null,
            "max_width": null,
            "min_height": null,
            "min_width": null,
            "object_fit": null,
            "object_position": null,
            "order": null,
            "overflow": null,
            "overflow_x": null,
            "overflow_y": null,
            "padding": null,
            "right": null,
            "top": null,
            "visibility": null,
            "width": null
          }
        },
        "b7120bb224144e8c8c7c8e1af0aefaa4": {
          "model_module": "@jupyter-widgets/controls",
          "model_name": "DescriptionStyleModel",
          "model_module_version": "1.5.0",
          "state": {
            "_model_module": "@jupyter-widgets/controls",
            "_model_module_version": "1.5.0",
            "_model_name": "DescriptionStyleModel",
            "_view_count": null,
            "_view_module": "@jupyter-widgets/base",
            "_view_module_version": "1.2.0",
            "_view_name": "StyleView",
            "description_width": ""
          }
        }
      }
    }
  },
  "cells": [
    {
      "cell_type": "markdown",
      "metadata": {
        "id": "view-in-github",
        "colab_type": "text"
      },
      "source": [
        "<a href=\"https://colab.research.google.com/github/katL7/GTSRB-APS360/blob/Simplex/APS360_Traffic_Sign_Project.ipynb\" target=\"_parent\"><img src=\"https://colab.research.google.com/assets/colab-badge.svg\" alt=\"Open In Colab\"/></a>"
      ]
    },
    {
      "cell_type": "markdown",
      "source": [
        "## Imports"
      ],
      "metadata": {
        "id": "FwK5G34Jx_Ez"
      }
    },
    {
      "cell_type": "code",
      "execution_count": 1,
      "metadata": {
        "id": "KcORCBgQ_2zK"
      },
      "outputs": [],
      "source": [
        "import numpy as np\n",
        "import time\n",
        "import torch\n",
        "import torch.nn as nn\n",
        "import torch.nn.functional as F\n",
        "import torch.optim as optim\n",
        "import torchvision\n",
        "from torchvision import datasets, transforms\n",
        "from torch.utils.data.sampler import SubsetRandomSampler\n",
        "from google.colab import drive\n",
        "import os\n",
        "import matplotlib.pyplot as plt"
      ]
    },
    {
      "cell_type": "code",
      "source": [
        "use_cuda = True"
      ],
      "metadata": {
        "id": "JemGhh_1Kh3m"
      },
      "execution_count": 2,
      "outputs": []
    },
    {
      "cell_type": "markdown",
      "source": [
        "## Dataset loaders"
      ],
      "metadata": {
        "id": "Bamt_XDHyJyF"
      }
    },
    {
      "cell_type": "code",
      "source": [
        "# split into training, validation and test - stratify each\n",
        "def get_val_test_loader(batch_size=64, img_size=50):\n",
        "\n",
        "\n",
        "    # Rescale images to all be the same size\n",
        "    data_transform = transforms.Compose([transforms.Resize((img_size,img_size)), \n",
        "                                         transforms.ToTensor()])\n",
        "\n",
        "    # Get paths to data in folder\n",
        "    gtsrb_data = datasets.GTSRB('data', download=True, split='test',\n",
        "                           transform=data_transform)\n",
        "\n",
        "    class_idxs = {}\n",
        "    #Loop through filenames and sort into classes\n",
        "    for i, data in enumerate(gtsrb_data):\n",
        "        img, label = data\n",
        "        if label in class_idxs:\n",
        "          class_idxs[label].append(i)\n",
        "        else:\n",
        "          class_idxs[label] = [i]\n",
        "\n",
        "    np.random.seed(1000)\n",
        "    test_indices = []\n",
        "    val_indices = []\n",
        "\n",
        "    for class_key in class_idxs:\n",
        "      #Split validation/testing indices as 0.7/0.3 split by class\n",
        "      np.random.shuffle(class_idxs[class_key])\n",
        "      split = int(len(class_idxs[class_key]) * 0.7)\n",
        "      val_indices += class_idxs[class_key][:split]\n",
        "      test_indices += class_idxs[class_key][split:]\n",
        "\n",
        "    #Shuffle the testing/validation indices\n",
        "    np.random.shuffle(test_indices)\n",
        "    np.random.shuffle(val_indices)\n",
        "\n",
        "    #testing data loader\n",
        "    test_sampler = SubsetRandomSampler(test_indices)\n",
        "    test_loader = torch.utils.data.DataLoader(gtsrb_data, batch_size=batch_size,\n",
        "          num_workers=0, sampler=test_sampler)\n",
        "\n",
        "    #Validation data loader\n",
        "    val_sampler = SubsetRandomSampler(val_indices)\n",
        "    val_loader = torch.utils.data.DataLoader(gtsrb_data, batch_size=batch_size,\n",
        "          num_workers=0, sampler=val_sampler)\n",
        "    \n",
        "    return val_loader, test_loader"
      ],
      "metadata": {
        "id": "8e1zsJIX1uKP"
      },
      "execution_count": 3,
      "outputs": []
    },
    {
      "cell_type": "code",
      "source": [
        "def get_train_loader(batch_size=64, img_size=50, affine_transform=False):\n",
        "    # Rescale images to all be the same size\n",
        "\n",
        "\n",
        "    if affine_transform:\n",
        "      data_transform = transforms.Compose([\n",
        "      transforms.RandomAffine(15, translate =(0.05, 0.05), scale = (1,1.05), shear=6),\n",
        "      transforms.Resize((img_size,img_size)),\n",
        "      transforms.ToTensor(),\n",
        "      ])\n",
        "    else:\n",
        "      data_transform = transforms.Compose([transforms.Resize((img_size,img_size)), \n",
        "                                            transforms.ToTensor()])\n",
        "\n",
        "    # Get paths to data in folder\n",
        "    data = datasets.GTSRB('data', download=True, split=\"train\",\n",
        "                          transform=data_transform)\n",
        "  \n",
        "    np.random.seed(1000)\n",
        "    #train data loader\n",
        "    train_loader = torch.utils.data.DataLoader(data, batch_size=batch_size,\n",
        "          num_workers=0, shuffle=True)\n",
        "    \n",
        "    return train_loader\n",
        "\n"
      ],
      "metadata": {
        "id": "cJ4zLm18CYVS"
      },
      "execution_count": 4,
      "outputs": []
    },
    {
      "cell_type": "code",
      "source": [
        "val_loader, test_loader = get_val_test_loader(64)"
      ],
      "metadata": {
        "id": "_u0ZknId8qib",
        "outputId": "6035219b-017d-4a94-f8ce-ace9f62372e3",
        "colab": {
          "base_uri": "https://localhost:8080/",
          "height": 174,
          "referenced_widgets": [
            "3446d9de994c45b49eb74f9afbc67def",
            "c053fe3966e549c3b6d2600096fad31e",
            "00757d346cf04d34ad6b90abf07081d8",
            "6c12e93f0b1f43fbb44c73900f27ce3f",
            "06b5bb89aa1d4b1c85e57a9e82f9c18a",
            "a218153a8f17427e9122a63497fd60da",
            "a7df4ec4349242059f97ada957ec48a6",
            "935556eca60c484c8c929d937e17f0fb",
            "c8e72108ae514876a43da4f6887411df",
            "488f0b11922149abb627430128e8294e",
            "5a6bb768a8e3466298bc496cbe41a99b",
            "56926c841a1248b2ab424dfe924c738d",
            "bdd63649afea446688825d0718a56596",
            "fd8989e37384452aa81686e8343bf686",
            "8410d54148204b7f940eafa33cf92307",
            "9003c03649ca4322b9c24d5ac68c22f8",
            "7bd49856ce604a2c87bd8668b2f359ca",
            "dd50654b8c294f5f81392608d546336a",
            "2735ad646a824185b17855079601735b",
            "de8c3bcc0a2f4462b0bdfb7834ee9ed8",
            "17afb3c7380248d582d5892c89d2da3b",
            "c98c435305df4d57a6f238c6b50367fa"
          ]
        }
      },
      "execution_count": 5,
      "outputs": [
        {
          "output_type": "stream",
          "name": "stdout",
          "text": [
            "Downloading https://sid.erda.dk/public/archives/daaeac0d7ce1152aea9b61d9f1e19370/GTSRB_Final_Test_Images.zip to data/gtsrb/GTSRB_Final_Test_Images.zip\n"
          ]
        },
        {
          "output_type": "display_data",
          "data": {
            "text/plain": [
              "  0%|          | 0/88978620 [00:00<?, ?it/s]"
            ],
            "application/vnd.jupyter.widget-view+json": {
              "version_major": 2,
              "version_minor": 0,
              "model_id": "3446d9de994c45b49eb74f9afbc67def"
            }
          },
          "metadata": {}
        },
        {
          "output_type": "stream",
          "name": "stdout",
          "text": [
            "Extracting data/gtsrb/GTSRB_Final_Test_Images.zip to data/gtsrb\n",
            "Downloading https://sid.erda.dk/public/archives/daaeac0d7ce1152aea9b61d9f1e19370/GTSRB_Final_Test_GT.zip to data/gtsrb/GTSRB_Final_Test_GT.zip\n"
          ]
        },
        {
          "output_type": "display_data",
          "data": {
            "text/plain": [
              "  0%|          | 0/99620 [00:00<?, ?it/s]"
            ],
            "application/vnd.jupyter.widget-view+json": {
              "version_major": 2,
              "version_minor": 0,
              "model_id": "56926c841a1248b2ab424dfe924c738d"
            }
          },
          "metadata": {}
        },
        {
          "output_type": "stream",
          "name": "stdout",
          "text": [
            "Extracting data/gtsrb/GTSRB_Final_Test_GT.zip to data/gtsrb\n"
          ]
        }
      ]
    },
    {
      "cell_type": "code",
      "source": [
        "\n",
        "train_loader = get_train_loader(64)"
      ],
      "metadata": {
        "id": "KXXC8d37DfG4",
        "colab": {
          "base_uri": "https://localhost:8080/",
          "height": 106,
          "referenced_widgets": [
            "eab433a0034b4b3096667cf589b121ad",
            "f28d0c37357d43e3b45552bb9919adf9",
            "e11af66826a847cc8db5c544abdfb8e8",
            "f87aa7b533544810b293d463edd29176",
            "a58b65404b4042aa83c02b3179053ef4",
            "b4883361562f4e4c80b024ccf650e0c4",
            "d4669be939ba4e9f8e8b9d9cec3dbef7",
            "87dcbe38fb274de0ab5092252f3eea24",
            "65afcb9e505f4d3e8ba6b653709a24af",
            "f8ad9d080ff74d7d9e862ae976d0e0a7",
            "e791e34565a747a39893e6db706230fb"
          ]
        },
        "outputId": "5bbb5138-0cc7-444e-e10f-18ffa8b9a4d1"
      },
      "execution_count": 6,
      "outputs": [
        {
          "output_type": "stream",
          "name": "stdout",
          "text": [
            "Downloading https://sid.erda.dk/public/archives/daaeac0d7ce1152aea9b61d9f1e19370/GTSRB-Training_fixed.zip to data/gtsrb/GTSRB-Training_fixed.zip\n"
          ]
        },
        {
          "output_type": "display_data",
          "data": {
            "text/plain": [
              "  0%|          | 0/187490228 [00:00<?, ?it/s]"
            ],
            "application/vnd.jupyter.widget-view+json": {
              "version_major": 2,
              "version_minor": 0,
              "model_id": "eab433a0034b4b3096667cf589b121ad"
            }
          },
          "metadata": {}
        },
        {
          "output_type": "stream",
          "name": "stdout",
          "text": [
            "Extracting data/gtsrb/GTSRB-Training_fixed.zip to data/gtsrb\n"
          ]
        }
      ]
    },
    {
      "cell_type": "code",
      "source": [
        "# Label Overview\n",
        "classes = { 0:'Speed limit (20km/h)',\n",
        "            1:'Speed limit (30km/h)', \n",
        "            2:'Speed limit (50km/h)', \n",
        "            3:'Speed limit (60km/h)', \n",
        "            4:'Speed limit (70km/h)', \n",
        "            5:'Speed limit (80km/h)', \n",
        "            6:'End of speed limit (80km/h)', \n",
        "            7:'Speed limit (100km/h)', \n",
        "            8:'Speed limit (120km/h)', \n",
        "            9:'No passing', \n",
        "            10:'No passing veh over 3.5 tons', \n",
        "            11:'Right-of-way at intersection', \n",
        "            12:'Priority road', \n",
        "            13:'Yield', \n",
        "            14:'Stop', \n",
        "            15:'No vehicles', \n",
        "            16:'Veh > 3.5 tons prohibited', \n",
        "            17:'No entry', \n",
        "            18:'General caution', \n",
        "            19:'Dangerous curve left', \n",
        "            20:'Dangerous curve right', \n",
        "            21:'Double curve', \n",
        "            22:'Bumpy road', \n",
        "            23:'Slippery road', \n",
        "            24:'Road narrows on the right', \n",
        "            25:'Road work', \n",
        "            26:'Traffic signals', \n",
        "            27:'Pedestrians', \n",
        "            28:'Children crossing', \n",
        "            29:'Bicycles crossing', \n",
        "            30:'Beware of ice/snow',\n",
        "            31:'Wild animals crossing', \n",
        "            32:'End speed + passing limits', \n",
        "            33:'Turn right ahead', \n",
        "            34:'Turn left ahead', \n",
        "            35:'Ahead only', \n",
        "            36:'Go straight or right', \n",
        "            37:'Go straight or left', \n",
        "            38:'Keep right', \n",
        "            39:'Keep left', \n",
        "            40:'Roundabout mandatory', \n",
        "            41:'End of no passing', \n",
        "            42:'End no passing veh > 3.5 tons' }"
      ],
      "metadata": {
        "id": "tXX00XOmkLPq"
      },
      "execution_count": 6,
      "outputs": []
    },
    {
      "cell_type": "markdown",
      "source": [
        "# Initital model - CNN"
      ],
      "metadata": {
        "id": "wzJ5yVksa_T1"
      }
    },
    {
      "cell_type": "markdown",
      "source": [
        "First I'm gonna try my own CNN since AlexNet was trained on 224x224 and our images are a lot smaller (not sure if this matters)"
      ],
      "metadata": {
        "id": "y-F6G81ld7Ks"
      }
    },
    {
      "cell_type": "code",
      "source": [
        "class TrafficSignModel(nn.Module):\n",
        "  def __init__(self):\n",
        "     super(TrafficSignModel, self).__init__()\n",
        "     self.name = \"TrafficSignModel\"\n",
        "     self.conv1 = nn.Conv2d(3, 5, 5) # 3 input channels, 5 output channels, kernel size of 5\n",
        "     self.pool = nn.MaxPool2d(2, 2) # kernel size of 2, stride of 2\n",
        "     self.conv2 = nn.Conv2d(5, 10, 5) # 5 input channels, 10 output channels, kernel size of 5\n",
        "     self.fc1 = nn.Linear(10 * 9 * 9, 28) # 10 input channels, 12*12 input dimension, output to 28 channels\n",
        "     self.fc2 = nn.Linear(28, 43) # 28 channels to 43 channels for classification\n",
        "         \n",
        "  def forward(self, x):\n",
        "    x = self.pool(F.relu(self.conv1(x)))\n",
        "    x = self.pool(F.relu(self.conv2(x)))\n",
        "    x = x.view(-1, 10 * 9 * 9) # Flatten image\n",
        "    x = F.relu(self.fc1(x))\n",
        "    x = self.fc2(x)\n",
        "    x = x.squeeze(1) # Flatten to [batch_size]\n",
        "    return x"
      ],
      "metadata": {
        "id": "ddDR2-8gbFQO"
      },
      "execution_count": 5,
      "outputs": []
    },
    {
      "cell_type": "markdown",
      "source": [
        "Train the network"
      ],
      "metadata": {
        "id": "P1nKIQ3sj3Gw"
      }
    },
    {
      "cell_type": "code",
      "source": [
        "# Function to obtain accuracy\n",
        "def get_accuracy(net, data_loader):\n",
        "  correct = 0\n",
        "  total = 0\n",
        "\n",
        "  for imgs, labels in data_loader:\n",
        "    #############################################\n",
        "    #To Enable GPU Usage\n",
        "    if use_cuda and torch.cuda.is_available():\n",
        "      imgs = imgs.cuda()\n",
        "      labels = labels.cuda()\n",
        "    #############################################\n",
        "    output = net(imgs)\n",
        "    prediction = output.max(1, keepdim=True)[1]\n",
        "    correct += prediction.eq(labels.view_as(prediction)).sum().item()\n",
        "    total += imgs.shape[0]\n",
        "  return correct / total"
      ],
      "metadata": {
        "id": "F5r5Pur9m5Jw"
      },
      "execution_count": 7,
      "outputs": []
    },
    {
      "cell_type": "code",
      "source": [
        "# Function to obtain error\n",
        "def get_error(net, data_loader):\n",
        "  correct = 0\n",
        "  total = 0\n",
        "  evaluate_net = net.eval()\n",
        "\n",
        "  for imgs, labels in data_loader:\n",
        "    #############################################\n",
        "    #To Enable GPU Usage\n",
        "    if use_cuda and torch.cuda.is_available():\n",
        "      imgs = imgs.cuda()\n",
        "      labels = labels.cuda()\n",
        "    #############################################\n",
        "    output = evaluate_net(imgs)\n",
        "    prediction = output.max(1, keepdim=True)[1]\n",
        "    correct += prediction.eq(labels.view_as(prediction)).sum().item()\n",
        "    total += imgs.shape[0]\n",
        "  return (total - correct) / total"
      ],
      "metadata": {
        "id": "I8Yh0Fs51Y-z"
      },
      "execution_count": 10,
      "outputs": []
    },
    {
      "cell_type": "code",
      "source": [
        "# Function to obtain loss\n",
        "def get_loss(net, data_loader, criterion):\n",
        "  loss = 0.0\n",
        "  total_loss = 0.0\n",
        "  evaluate_net = net.eval()\n",
        "  for imgs, labels in data_loader:\n",
        "    #############################################\n",
        "    #To Enable GPU Usage\n",
        "    if use_cuda and torch.cuda.is_available():\n",
        "      imgs = imgs.cuda()\n",
        "      labels = labels.cuda()\n",
        "    #############################################\n",
        "    output = evaluate_net(imgs)\n",
        "    loss = criterion(output, labels)\n",
        "    total_loss += loss.item()\n",
        "\n",
        "  loss = float(total_loss) / (len(data_loader))\n",
        "  return loss"
      ],
      "metadata": {
        "id": "h1CAN_2B2BPt"
      },
      "execution_count": 11,
      "outputs": []
    },
    {
      "cell_type": "code",
      "source": [
        "# Function to get model name\n",
        "def get_model_name(name, batch_size, learning_rate, epoch):\n",
        "    \"\"\" Generate a name for the model consisting of all the hyperparameter values\n",
        "\n",
        "    Args:\n",
        "        config: Configuration object containing the hyperparameters\n",
        "    Returns:\n",
        "        path: A string with the hyperparameter name and value concatenated\n",
        "    \"\"\"\n",
        "    path = \"model_{0}_bs{1}_lr{2}_epoch{3}\".format(name,\n",
        "                                                   batch_size,\n",
        "                                                   learning_rate,\n",
        "                                                   epoch)\n",
        "    return path"
      ],
      "metadata": {
        "id": "an92DWly4Fbn"
      },
      "execution_count": 12,
      "outputs": []
    },
    {
      "cell_type": "code",
      "source": [
        "# Function to plot Training Curve\n",
        "def plot_training_curve(path):\n",
        "    \"\"\" Plots the training curve for a model run, given the csv files\n",
        "    containing the train/validation error/loss.\n",
        "\n",
        "    Args:\n",
        "        path: The base path of the csv files produced during training\n",
        "    \"\"\"\n",
        "    import matplotlib.pyplot as plt\n",
        "    train_err = np.loadtxt(\"{}_train_err.csv\".format(path))\n",
        "    val_err = np.loadtxt(\"{}_val_err.csv\".format(path))\n",
        "    train_loss = np.loadtxt(\"{}_train_loss.csv\".format(path))\n",
        "    val_loss = np.loadtxt(\"{}_val_loss.csv\".format(path))\n",
        "    plt.title(\"Train vs Validation Error\")\n",
        "    n = len(train_err) # number of epochs\n",
        "    plt.plot(range(1,n+1), train_err, label=\"Train\")\n",
        "    plt.plot(range(1,n+1), val_err, label=\"Validation\")\n",
        "    plt.xlabel(\"Epoch\")\n",
        "    plt.ylabel(\"Error\")\n",
        "    plt.legend(loc='best')\n",
        "    plt.show()\n",
        "    plt.title(\"Train vs Validation Loss\")\n",
        "    plt.plot(range(1,n+1), train_loss, label=\"Train\")\n",
        "    plt.plot(range(1,n+1), val_loss, label=\"Validation\")\n",
        "    plt.xlabel(\"Epoch\")\n",
        "    plt.ylabel(\"Loss\")\n",
        "    plt.legend(loc='best')\n",
        "    plt.show()"
      ],
      "metadata": {
        "id": "de6ENbpS5sTJ"
      },
      "execution_count": 13,
      "outputs": []
    },
    {
      "cell_type": "code",
      "source": [
        "def train_net(net, train_loader, val_loader, batch_size=64, learning_rate=0.01, num_epochs=30):\n",
        "  # Set the seed for reproducible results\n",
        "  torch.manual_seed(1000)\n",
        "\n",
        "  # Define the loss function - we will use Cross Entropy Loss for this classification problem\n",
        "  criterion = nn.CrossEntropyLoss()\n",
        "\n",
        "  # Define the optimizer -  we will use Adaptive moment estimation\n",
        "  optimizer = optim.Adam(net.parameters(), lr = learning_rate)\n",
        "\n",
        "  # Arrays to store stats\n",
        "  train_err = np.zeros(num_epochs)\n",
        "  train_loss = np.zeros(num_epochs)\n",
        "  val_err = np.zeros(num_epochs)\n",
        "  val_loss = np.zeros(num_epochs)\n",
        "\n",
        "  n = 0 # number iterations\n",
        "  for epoch in range(num_epochs):\n",
        "    total_train_loss = 0.0\n",
        "    for imgs, labels in train_loader:\n",
        "      #############################################\n",
        "      #To Enable GPU Usage\n",
        "      if use_cuda and torch.cuda.is_available():\n",
        "          imgs = imgs.cuda()\n",
        "          labels = labels.cuda()\n",
        "      #############################################\n",
        "      out = net(imgs)                 # forward passs\n",
        "      loss = criterion(out, labels)   # compute loss\n",
        "      loss.backward()                 # backward pass\n",
        "      optimizer.step()                # update paramters\n",
        "      optimizer.zero_grad()           # clean up\n",
        "\n",
        "      total_train_loss += loss.item()\n",
        "\n",
        "    train_err[epoch] = get_error(net, train_loader)\n",
        "    train_loss[epoch] = float(total_train_loss) / (len(train_loader))\n",
        "    val_err[epoch] = get_error(net, val_loader)\n",
        "    val_loss[epoch] = get_loss(net, val_loader, criterion)\n",
        "\n",
        "    print((\"Epoch {}: Train error: {}, Train loss: {}, Val error: {}, Val loss: {}\").format(\n",
        "        epoch +1,\n",
        "        train_err[epoch],\n",
        "        train_loss[epoch],\n",
        "        val_err[epoch],\n",
        "        val_loss[epoch]))\n",
        "    \n",
        "    # Save the current model after each epoch\n",
        "    model_path = get_model_name(net.name, batch_size, learning_rate, epoch)\n",
        "    torch.save(net.state_dict(), model_path)\n",
        "\n",
        "  # Finished training, save statistics to CSV\n",
        "  epochs = np.arange(1, num_epochs + 1)\n",
        "  np.savetxt(\"{}_train_err.csv\".format(model_path), train_err)\n",
        "  np.savetxt(\"{}_train_loss.csv\".format(model_path), val_err)\n",
        "  np.savetxt(\"{}_val_loss.csv\".format(model_path), val_loss)\n",
        "\n",
        "  # plotting\n",
        "  plot_training_curve(model_path)\n"
      ],
      "metadata": {
        "id": "yat0s7Q-j4kU"
      },
      "execution_count": 14,
      "outputs": []
    },
    {
      "cell_type": "markdown",
      "source": [
        "Try to overfit the data"
      ],
      "metadata": {
        "id": "6uM24qE2sBI2"
      }
    },
    {
      "cell_type": "code",
      "source": [
        "def get_debug_loader():\n",
        "  # Rescale images to all be the same size\n",
        "  data_transform = transforms.Compose([transforms.Resize((50,50)), \n",
        "                                       transforms.ToTensor()])\n",
        "\n",
        "  # Get paths to data in folder\n",
        "  debug_data = datasets.GTSRB('data', download=True, split=\"train\",\n",
        "                        transform=data_transform)\n",
        "  #print(len(debug_data))\n",
        "  debug_data = list(debug_data)\n",
        "  debug_data = debug_data[:64]\n",
        "  #print(len(debug_data))\n",
        "\n",
        "  np.random.seed(1000)\n",
        "  debug_loader = torch.utils.data.DataLoader(debug_data, batch_size=64,\n",
        "        num_workers=0, shuffle=True)\n",
        "  return debug_loader\n"
      ],
      "metadata": {
        "id": "kyG-_XD0sDVJ"
      },
      "execution_count": 15,
      "outputs": []
    },
    {
      "cell_type": "code",
      "source": [
        "overfit_loader = get_debug_loader()\n",
        "model = TrafficSignModel()\n",
        "\n",
        "if use_cuda and torch.cuda.is_available():\n",
        "  model.cuda()\n",
        "  print('CUDA is available!  Training on GPU ...')\n",
        "else:\n",
        "  print('CUDA is not available.  Training on CPU ...')\n",
        "\n",
        "train_net(model, train_loader, val_loader, batch_size=256, learning_rate=0.1, num_epochs=30)"
      ],
      "metadata": {
        "id": "DQVFjMfJy1Pw"
      },
      "execution_count": null,
      "outputs": []
    },
    {
      "cell_type": "markdown",
      "source": [
        "# Model using AlexNet Features"
      ],
      "metadata": {
        "id": "ZIzpQey3c0Pv"
      }
    },
    {
      "cell_type": "code",
      "source": [
        "#### Update this to the correct path to the alexnet features folder ####\n",
        "PATH_TO_FEATURES = 'drive/MyDrive/APS360/Project/AlexNet_Features/'"
      ],
      "metadata": {
        "id": "JeoDVdG8c4_a"
      },
      "execution_count": null,
      "outputs": []
    },
    {
      "cell_type": "code",
      "source": [
        "# Save Alexnet features\n",
        "#### Do not re-run, this takes ages. Instead use the google drive. ####\n",
        "# import torchvision.models\n",
        "# alexnet = torchvision.models.alexnet(pretrained=True)\n",
        "\n",
        "# feature_train_loader = []\n",
        "# feature_val_loader = []\n",
        "# feature_test_loader = []\n",
        "\n",
        "\n",
        "# val_loader, test_loader = get_val_test_loader(batch_size=1, img_size=256)\n",
        "# train_loader = get_train_loader(batch_size=1, img_size=256)\n",
        "# data_dir = 'drive/MyDrive/APS360/Project/AlexNet_Features/'\n",
        "\n",
        "# i=0\n",
        "# for image, label in train_loader:\n",
        "#   feature = alexnet.features(image)\n",
        "#   torch.save(feature[0], data_dir+\"Train_Features/\"+str(label.item())+\"/train_feature_\"+str(i)+\".pt\")\n",
        "#   i +=1\n",
        "\n",
        "# for image, label in val_loader:\n",
        "#   feature = alexnet.features(image)\n",
        "#   torch.save(feature[0], data_dir+\"Val_Features/\"+str(label.item())+\"/val_feature_\"+str(i)+\".pt\")\n",
        "#   i +=1\n",
        "# for image, label in test_loader:\n",
        "#   feature = alexnet.features(image)\n",
        "#   torch.save(feature[0], data_dir+\"Test_Features/\"+str(label.item())+\"/test_feature_\"+str(i)+\".pt\")\n",
        "#   i +=1\n"
      ],
      "metadata": {
        "id": "PGxEkzy8UuD4"
      },
      "execution_count": null,
      "outputs": []
    },
    {
      "cell_type": "code",
      "source": [
        "class TrafficSignModelFeatures(nn.Module):\n",
        "  def __init__(self):\n",
        "    super(TrafficSignModelFeatures, self).__init__()\n",
        "    self.name = \"TrafficSignModelFeatures\"\n",
        "    self.conv1 = nn.Conv2d(256, 280, 3)\n",
        "    self.fc1 = nn.Linear(280 * 5 * 5, 80) #tried 40 but 32 gave better results\n",
        "    self.fc2 = nn.Linear(80, 43) \n",
        "\n",
        "  def forward(self, x):\n",
        "    x = F.relu(self.conv1(x))\n",
        "    x = x.view(-1, 280 * 5 * 5)\n",
        "    x = F.relu(self.fc1(x))\n",
        "    x = self.fc2(x)\n",
        "    x = x.squeeze(1) # Flatten to [batch_size]\n",
        "    return x"
      ],
      "metadata": {
        "id": "UDmnKN9RYu7u"
      },
      "execution_count": 16,
      "outputs": []
    },
    {
      "cell_type": "code",
      "source": [
        "def get_data_loader_features(batch_size=64):\n",
        "    \"\"\" Loads features from google drive folder. Returns data loaders for the \n",
        "    three preprocessed datasets.\n",
        "\n",
        "    Args:\n",
        "        batch_size: A int representing the number of samples per batch\n",
        "    \n",
        "    Returns:\n",
        "        train_loader: iterable training dataset organized according to batch size\n",
        "        val_loader: iterable validation dataset organized according to batch size\n",
        "        test_loader: iterable testing dataset organized according to batch size\n",
        "    \"\"\"\n",
        "\n",
        "    transform = lambda t: torch.from_numpy(t.detach().numpy())\n",
        "\n",
        "    #Get paths to data in folder\n",
        "    data_dir = 'drive/MyDrive/APS360/Project/AlexNet_Features/'\n",
        "    train_data = torchvision.datasets.DatasetFolder(\n",
        "        data_dir+\"Train_Features/\", torch.load, extensions = [\".pt\"], transform=transform)\n",
        "    val_data = torchvision.datasets.DatasetFolder(\n",
        "        data_dir+\"Val_Features/\", torch.load, extensions = [\".pt\"], transform=transform)\n",
        "    test_data = torchvision.datasets.DatasetFolder(\n",
        "        data_dir+\"Test_Features/\", torch.load, extensions = [\".pt\"], transform=transform)\n",
        "\n",
        "    #Training data loader\n",
        "    train_loader = torch.utils.data.DataLoader(train_data, batch_size=batch_size,\n",
        "          num_workers=0, shuffle=True)\n",
        "\n",
        "    #Validation data loader\n",
        "    val_loader = torch.utils.data.DataLoader(val_data, batch_size=batch_size,\n",
        "          num_workers=0, shuffle=True)\n",
        "\n",
        "    #Test data loader\n",
        "    test_loader = torch.utils.data.DataLoader(test_data, batch_size=batch_size,\n",
        "          num_workers=0, shuffle=True)\n",
        "    \n",
        "    return train_loader, val_loader, test_loader\n"
      ],
      "metadata": {
        "id": "gGcpjz85Zdd3"
      },
      "execution_count": 17,
      "outputs": []
    },
    {
      "cell_type": "code",
      "source": [
        "model = TrafficSignModelFeatures()\n",
        "use_cuda = True\n",
        "\n",
        "if use_cuda and torch.cuda.is_available():\n",
        "  model.cuda()\n",
        "  print('CUDA is available!  Training on GPU ...')\n",
        "else:\n",
        "  print('CUDA is not available.  Training on CPU ...')\n",
        "\n",
        "train_loader, val_loader, test_loader = get_data_loader_features(512)\n",
        "\n",
        "train_net(model, train_loader, val_loader, batch_size=512, learning_rate=0.006, num_epochs=10)"
      ],
      "metadata": {
        "id": "ylTXMRu5Z1RF",
        "outputId": "29984ed5-1a44-4993-eb46-741c04664526",
        "colab": {
          "base_uri": "https://localhost:8080/",
          "height": 748
        }
      },
      "execution_count": null,
      "outputs": [
        {
          "output_type": "stream",
          "name": "stdout",
          "text": [
            "CUDA is available!  Training on GPU ...\n",
            "Epoch 1: Train error: 0.3454204204204204, Train loss: 1.9975641099911816, Val error: 0.4487876727849536, Val loss: 1.789199047618442\n",
            "Epoch 2: Train error: 0.1131006006006006, Train loss: 0.519983450196824, Val error: 0.2528891910265126, Val loss: 0.9529184301694235\n",
            "Epoch 3: Train error: 0.0748123123123123, Train loss: 0.2568095434667929, Val error: 0.2259234081123952, Val loss: 0.8560722205373976\n",
            "Epoch 4: Train error: 0.14136636636636637, Train loss: 0.1846058669517625, Val error: 0.2846136415137095, Val loss: 1.2405276364750333\n",
            "Epoch 5: Train error: 0.03843843843843844, Train loss: 0.2003081373448642, Val error: 0.20518921368683435, Val loss: 0.8659322228696611\n",
            "Epoch 6: Train error: 0.024737237237237236, Train loss: 0.10167069979152589, Val error: 0.18094266938590528, Val loss: 0.8551405800713433\n",
            "Epoch 7: Train error: 0.02991741741741742, Train loss: 0.07658512932511996, Val error: 0.19703149784726942, Val loss: 0.9747237728701698\n",
            "Epoch 8: Train error: 0.019857357357357358, Train loss: 0.06751177927373715, Val error: 0.1863811466122819, Val loss: 0.9954167770014869\n",
            "Epoch 9: Train error: 0.017417417417417418, Train loss: 0.06092002173393683, Val error: 0.1812825742125538, Val loss: 1.0150667329629262\n",
            "Epoch 10: Train error: 0.02545045045045045, Train loss: 0.048539706382830186, Val error: 0.18728755948334466, Val loss: 1.056118968460295\n"
          ]
        },
        {
          "output_type": "error",
          "ename": "AttributeError",
          "evalue": "ignored",
          "traceback": [
            "\u001b[0;31m---------------------------------------------------------------------------\u001b[0m",
            "\u001b[0;31mAttributeError\u001b[0m                            Traceback (most recent call last)",
            "\u001b[0;32m<ipython-input-76-08d2deb4b951>\u001b[0m in \u001b[0;36m<module>\u001b[0;34m\u001b[0m\n\u001b[1;32m     10\u001b[0m \u001b[0mtrain_loader\u001b[0m\u001b[0;34m,\u001b[0m \u001b[0mval_loader\u001b[0m\u001b[0;34m,\u001b[0m \u001b[0mtest_loader\u001b[0m \u001b[0;34m=\u001b[0m \u001b[0mget_data_loader_features\u001b[0m\u001b[0;34m(\u001b[0m\u001b[0;36m512\u001b[0m\u001b[0;34m)\u001b[0m\u001b[0;34m\u001b[0m\u001b[0;34m\u001b[0m\u001b[0m\n\u001b[1;32m     11\u001b[0m \u001b[0;34m\u001b[0m\u001b[0m\n\u001b[0;32m---> 12\u001b[0;31m \u001b[0mtrain_net\u001b[0m\u001b[0;34m(\u001b[0m\u001b[0mmodel\u001b[0m\u001b[0;34m,\u001b[0m \u001b[0mtrain_loader\u001b[0m\u001b[0;34m,\u001b[0m \u001b[0mval_loader\u001b[0m\u001b[0;34m,\u001b[0m \u001b[0mbatch_size\u001b[0m\u001b[0;34m=\u001b[0m\u001b[0;36m512\u001b[0m\u001b[0;34m,\u001b[0m \u001b[0mlearning_rate\u001b[0m\u001b[0;34m=\u001b[0m\u001b[0;36m0.006\u001b[0m\u001b[0;34m,\u001b[0m \u001b[0mnum_epochs\u001b[0m\u001b[0;34m=\u001b[0m\u001b[0;36m10\u001b[0m\u001b[0;34m)\u001b[0m\u001b[0;34m\u001b[0m\u001b[0;34m\u001b[0m\u001b[0m\n\u001b[0m",
            "\u001b[0;32m<ipython-input-14-4acaa9ffa0ab>\u001b[0m in \u001b[0;36mtrain_net\u001b[0;34m(net, train_loader, val_loader, batch_size, learning_rate, num_epochs)\u001b[0m\n\u001b[1;32m     50\u001b[0m \u001b[0;34m\u001b[0m\u001b[0m\n\u001b[1;32m     51\u001b[0m   \u001b[0;31m# Finished training, save statistics to CSV\u001b[0m\u001b[0;34m\u001b[0m\u001b[0;34m\u001b[0m\u001b[0;34m\u001b[0m\u001b[0m\n\u001b[0;32m---> 52\u001b[0;31m   \u001b[0mepochs\u001b[0m \u001b[0;34m=\u001b[0m \u001b[0mnp\u001b[0m\u001b[0;34m.\u001b[0m\u001b[0marrange\u001b[0m\u001b[0;34m(\u001b[0m\u001b[0;36m1\u001b[0m\u001b[0;34m,\u001b[0m \u001b[0mnum_epochs\u001b[0m \u001b[0;34m+\u001b[0m \u001b[0;36m1\u001b[0m\u001b[0;34m)\u001b[0m\u001b[0;34m\u001b[0m\u001b[0;34m\u001b[0m\u001b[0m\n\u001b[0m\u001b[1;32m     53\u001b[0m   \u001b[0mnp\u001b[0m\u001b[0;34m.\u001b[0m\u001b[0msavetxt\u001b[0m\u001b[0;34m(\u001b[0m\u001b[0;34m\"{}_train_err.csv\"\u001b[0m\u001b[0;34m.\u001b[0m\u001b[0mformat\u001b[0m\u001b[0;34m(\u001b[0m\u001b[0mmodel_path\u001b[0m\u001b[0;34m)\u001b[0m\u001b[0;34m,\u001b[0m \u001b[0mtrain_err\u001b[0m\u001b[0;34m)\u001b[0m\u001b[0;34m\u001b[0m\u001b[0;34m\u001b[0m\u001b[0m\n\u001b[1;32m     54\u001b[0m   \u001b[0mnp\u001b[0m\u001b[0;34m.\u001b[0m\u001b[0msavetxt\u001b[0m\u001b[0;34m(\u001b[0m\u001b[0;34m\"{}_train_loss.csv\"\u001b[0m\u001b[0;34m.\u001b[0m\u001b[0mformat\u001b[0m\u001b[0;34m(\u001b[0m\u001b[0mmodel_path\u001b[0m\u001b[0;34m)\u001b[0m\u001b[0;34m,\u001b[0m \u001b[0mval_err\u001b[0m\u001b[0;34m)\u001b[0m\u001b[0;34m\u001b[0m\u001b[0;34m\u001b[0m\u001b[0m\n",
            "\u001b[0;32m/usr/local/lib/python3.7/dist-packages/numpy/__init__.py\u001b[0m in \u001b[0;36m__getattr__\u001b[0;34m(attr)\u001b[0m\n\u001b[1;32m    312\u001b[0m \u001b[0;34m\u001b[0m\u001b[0m\n\u001b[1;32m    313\u001b[0m             raise AttributeError(\"module {!r} has no attribute \"\n\u001b[0;32m--> 314\u001b[0;31m                                  \"{!r}\".format(__name__, attr))\n\u001b[0m\u001b[1;32m    315\u001b[0m \u001b[0;34m\u001b[0m\u001b[0m\n\u001b[1;32m    316\u001b[0m         \u001b[0;32mdef\u001b[0m \u001b[0m__dir__\u001b[0m\u001b[0;34m(\u001b[0m\u001b[0;34m)\u001b[0m\u001b[0;34m:\u001b[0m\u001b[0;34m\u001b[0m\u001b[0;34m\u001b[0m\u001b[0m\n",
            "\u001b[0;31mAttributeError\u001b[0m: module 'numpy' has no attribute 'arrange'"
          ]
        }
      ]
    },
    {
      "cell_type": "markdown",
      "source": [
        "Some hacky code to get graphs because the model training code cell broke when trying to graph and I (Katherine) didn't want to re-train the whole thing"
      ],
      "metadata": {
        "id": "MwbY1jpNdM2H"
      }
    },
    {
      "cell_type": "code",
      "source": [
        "train_error = [\n",
        "    0.3454204204204204,\n",
        "    0.1131006006006006,\n",
        "    0.0748123123123123,\n",
        "    0.14136636636636637,\n",
        "    0.03843843843843844,\n",
        "    0.024737237237237236,\n",
        "    0.02991741741741742,\n",
        "    0.019857357357357358,\n",
        "    0.017417417417417418,\n",
        "    0.02545045045045045\n",
        "]\n",
        "\n",
        "train_loss = [\n",
        "    1.9975641099911816,\n",
        "    0.519983450196824,\n",
        "    0.2568095434667929,\n",
        "    0.1846058669517625,\n",
        "    0.2003081373448642,\n",
        "    0.10167069979152589, \n",
        "    0.07658512932511996,\n",
        "    0.06751177927373715,\n",
        "    0.06092002173393683,\n",
        "    0.048539706382830186,\n",
        "]\n",
        "val_error = [\n",
        "    0.4487876727849536,\n",
        "    0.2528891910265126,\n",
        "    0.2259234081123952,\n",
        "    0.2846136415137095,\n",
        "    0.20518921368683435,\n",
        "    0.18094266938590528,\n",
        "    0.19703149784726942,\n",
        "    0.1863811466122819,\n",
        "    0.1812825742125538,\n",
        "    0.18728755948334466,\n",
        "]\n",
        "\n",
        "val_loss = [\n",
        "    1.789199047618442,\n",
        "    0.9529184301694235,\n",
        "    0.8560722205373976,\n",
        "    1.2405276364750333,\n",
        "    0.8659322228696611,\n",
        "    0.8551405800713433,\n",
        "    0.9747237728701698,\n",
        "    0.9954167770014869,\n",
        "    1.0150667329629262,\n",
        "    1.056118968460295\n",
        "\n",
        "]\n",
        "\n",
        "plt.plot(list(range(10)),train_error)\n",
        "plt.plot(list(range(10)),val_error)\n",
        "plt.legend([\"Train Error\", \"Validation Error\"])\n",
        "\n",
        "plt.title(\"Preliminary Model Error\")\n",
        "plt.xlabel(\"Epoch\")\n",
        "plt.ylabel(\"Error\")"
      ],
      "metadata": {
        "id": "M2VZ7buzqxej",
        "outputId": "8d1d96ae-3376-4b86-d99d-d9829d64cece",
        "colab": {
          "base_uri": "https://localhost:8080/",
          "height": 313
        }
      },
      "execution_count": 22,
      "outputs": [
        {
          "output_type": "execute_result",
          "data": {
            "text/plain": [
              "Text(0, 0.5, 'Error')"
            ]
          },
          "metadata": {},
          "execution_count": 22
        },
        {
          "output_type": "display_data",
          "data": {
            "text/plain": [
              "<Figure size 432x288 with 1 Axes>"
            ],
            "image/png": "[encoded data removed]"
          },
          "metadata": {
            "needs_background": "light"
          }
        }
      ]
    },
    {
      "cell_type": "code",
      "source": [
        "plt.plot(list(range(10)),train_loss)\n",
        "plt.plot(list(range(10)),val_loss)\n",
        "plt.legend([\"Train Loss\", \"Validation Loss\"])\n",
        "\n",
        "plt.title(\"Preliminary Model Loss\")\n",
        "plt.xlabel(\"Epoch\")\n",
        "plt.ylabel(\"Loss\")"
      ],
      "metadata": {
        "id": "zS3V6K90uMP9",
        "outputId": "190d6b87-f0af-4ed7-ca2e-b8c8dadf4678",
        "colab": {
          "base_uri": "https://localhost:8080/",
          "height": 313
        }
      },
      "execution_count": null,
      "outputs": [
        {
          "output_type": "execute_result",
          "data": {
            "text/plain": [
              "Text(0, 0.5, 'Loss')"
            ]
          },
          "metadata": {},
          "execution_count": 95
        },
        {
          "output_type": "display_data",
          "data": {
            "text/plain": [
              "<Figure size 432x288 with 1 Axes>"
            ],
            "image/png": "[encoded data removed]"
          },
          "metadata": {
            "needs_background": "light"
          }
        }
      ]
    },
    {
      "cell_type": "code",
      "source": [
        "model_path = get_model_name(\"TrafficSignModelFeatures\", 512, 0.006, 9)\n",
        "plot_training_curve(model_path)\n"
      ],
      "metadata": {
        "id": "tc9b-Ovwsjs2",
        "outputId": "53d274f5-40e1-462a-c731-6f800e7da5f4",
        "colab": {
          "base_uri": "https://localhost:8080/",
          "height": 361
        }
      },
      "execution_count": null,
      "outputs": [
        {
          "output_type": "error",
          "ename": "OSError",
          "evalue": "ignored",
          "traceback": [
            "\u001b[0;31m---------------------------------------------------------------------------\u001b[0m",
            "\u001b[0;31mOSError\u001b[0m                                   Traceback (most recent call last)",
            "\u001b[0;32m<ipython-input-79-e7d78e066185>\u001b[0m in \u001b[0;36m<module>\u001b[0;34m\u001b[0m\n\u001b[1;32m      1\u001b[0m \u001b[0mmodel_path\u001b[0m \u001b[0;34m=\u001b[0m \u001b[0mget_model_name\u001b[0m\u001b[0;34m(\u001b[0m\u001b[0;34m\"TrafficSignModelFeatures\"\u001b[0m\u001b[0;34m,\u001b[0m \u001b[0;36m512\u001b[0m\u001b[0;34m,\u001b[0m \u001b[0;36m0.006\u001b[0m\u001b[0;34m,\u001b[0m \u001b[0;36m9\u001b[0m\u001b[0;34m)\u001b[0m\u001b[0;34m\u001b[0m\u001b[0;34m\u001b[0m\u001b[0m\n\u001b[0;32m----> 2\u001b[0;31m \u001b[0mplot_training_curve\u001b[0m\u001b[0;34m(\u001b[0m\u001b[0mmodel_path\u001b[0m\u001b[0;34m)\u001b[0m\u001b[0;34m\u001b[0m\u001b[0;34m\u001b[0m\u001b[0m\n\u001b[0m",
            "\u001b[0;32m<ipython-input-13-23ab20dc208a>\u001b[0m in \u001b[0;36mplot_training_curve\u001b[0;34m(path)\u001b[0m\n\u001b[1;32m      8\u001b[0m     \"\"\"\n\u001b[1;32m      9\u001b[0m     \u001b[0;32mimport\u001b[0m \u001b[0mmatplotlib\u001b[0m\u001b[0;34m.\u001b[0m\u001b[0mpyplot\u001b[0m \u001b[0;32mas\u001b[0m \u001b[0mplt\u001b[0m\u001b[0;34m\u001b[0m\u001b[0;34m\u001b[0m\u001b[0m\n\u001b[0;32m---> 10\u001b[0;31m     \u001b[0mtrain_err\u001b[0m \u001b[0;34m=\u001b[0m \u001b[0mnp\u001b[0m\u001b[0;34m.\u001b[0m\u001b[0mloadtxt\u001b[0m\u001b[0;34m(\u001b[0m\u001b[0;34m\"{}_train_err.csv\"\u001b[0m\u001b[0;34m.\u001b[0m\u001b[0mformat\u001b[0m\u001b[0;34m(\u001b[0m\u001b[0mpath\u001b[0m\u001b[0;34m)\u001b[0m\u001b[0;34m)\u001b[0m\u001b[0;34m\u001b[0m\u001b[0;34m\u001b[0m\u001b[0m\n\u001b[0m\u001b[1;32m     11\u001b[0m     \u001b[0mval_err\u001b[0m \u001b[0;34m=\u001b[0m \u001b[0mnp\u001b[0m\u001b[0;34m.\u001b[0m\u001b[0mloadtxt\u001b[0m\u001b[0;34m(\u001b[0m\u001b[0;34m\"{}_val_err.csv\"\u001b[0m\u001b[0;34m.\u001b[0m\u001b[0mformat\u001b[0m\u001b[0;34m(\u001b[0m\u001b[0mpath\u001b[0m\u001b[0;34m)\u001b[0m\u001b[0;34m)\u001b[0m\u001b[0;34m\u001b[0m\u001b[0;34m\u001b[0m\u001b[0m\n\u001b[1;32m     12\u001b[0m     \u001b[0mtrain_loss\u001b[0m \u001b[0;34m=\u001b[0m \u001b[0mnp\u001b[0m\u001b[0;34m.\u001b[0m\u001b[0mloadtxt\u001b[0m\u001b[0;34m(\u001b[0m\u001b[0;34m\"{}_train_loss.csv\"\u001b[0m\u001b[0;34m.\u001b[0m\u001b[0mformat\u001b[0m\u001b[0;34m(\u001b[0m\u001b[0mpath\u001b[0m\u001b[0;34m)\u001b[0m\u001b[0;34m)\u001b[0m\u001b[0;34m\u001b[0m\u001b[0;34m\u001b[0m\u001b[0m\n",
            "\u001b[0;32m/usr/local/lib/python3.7/dist-packages/numpy/lib/npyio.py\u001b[0m in \u001b[0;36mloadtxt\u001b[0;34m(fname, dtype, comments, delimiter, converters, skiprows, usecols, unpack, ndmin, encoding, max_rows, like)\u001b[0m\n\u001b[1;32m   1065\u001b[0m             \u001b[0mfname\u001b[0m \u001b[0;34m=\u001b[0m \u001b[0mos_fspath\u001b[0m\u001b[0;34m(\u001b[0m\u001b[0mfname\u001b[0m\u001b[0;34m)\u001b[0m\u001b[0;34m\u001b[0m\u001b[0;34m\u001b[0m\u001b[0m\n\u001b[1;32m   1066\u001b[0m         \u001b[0;32mif\u001b[0m \u001b[0m_is_string_like\u001b[0m\u001b[0;34m(\u001b[0m\u001b[0mfname\u001b[0m\u001b[0;34m)\u001b[0m\u001b[0;34m:\u001b[0m\u001b[0;34m\u001b[0m\u001b[0;34m\u001b[0m\u001b[0m\n\u001b[0;32m-> 1067\u001b[0;31m             \u001b[0mfh\u001b[0m \u001b[0;34m=\u001b[0m \u001b[0mnp\u001b[0m\u001b[0;34m.\u001b[0m\u001b[0mlib\u001b[0m\u001b[0;34m.\u001b[0m\u001b[0m_datasource\u001b[0m\u001b[0;34m.\u001b[0m\u001b[0mopen\u001b[0m\u001b[0;34m(\u001b[0m\u001b[0mfname\u001b[0m\u001b[0;34m,\u001b[0m \u001b[0;34m'rt'\u001b[0m\u001b[0;34m,\u001b[0m \u001b[0mencoding\u001b[0m\u001b[0;34m=\u001b[0m\u001b[0mencoding\u001b[0m\u001b[0;34m)\u001b[0m\u001b[0;34m\u001b[0m\u001b[0;34m\u001b[0m\u001b[0m\n\u001b[0m\u001b[1;32m   1068\u001b[0m             \u001b[0mfencoding\u001b[0m \u001b[0;34m=\u001b[0m \u001b[0mgetattr\u001b[0m\u001b[0;34m(\u001b[0m\u001b[0mfh\u001b[0m\u001b[0;34m,\u001b[0m \u001b[0;34m'encoding'\u001b[0m\u001b[0;34m,\u001b[0m \u001b[0;34m'latin1'\u001b[0m\u001b[0;34m)\u001b[0m\u001b[0;34m\u001b[0m\u001b[0;34m\u001b[0m\u001b[0m\n\u001b[1;32m   1069\u001b[0m             \u001b[0mfh\u001b[0m \u001b[0;34m=\u001b[0m \u001b[0miter\u001b[0m\u001b[0;34m(\u001b[0m\u001b[0mfh\u001b[0m\u001b[0;34m)\u001b[0m\u001b[0;34m\u001b[0m\u001b[0;34m\u001b[0m\u001b[0m\n",
            "\u001b[0;32m/usr/local/lib/python3.7/dist-packages/numpy/lib/_datasource.py\u001b[0m in \u001b[0;36mopen\u001b[0;34m(path, mode, destpath, encoding, newline)\u001b[0m\n\u001b[1;32m    191\u001b[0m \u001b[0;34m\u001b[0m\u001b[0m\n\u001b[1;32m    192\u001b[0m     \u001b[0mds\u001b[0m \u001b[0;34m=\u001b[0m \u001b[0mDataSource\u001b[0m\u001b[0;34m(\u001b[0m\u001b[0mdestpath\u001b[0m\u001b[0;34m)\u001b[0m\u001b[0;34m\u001b[0m\u001b[0;34m\u001b[0m\u001b[0m\n\u001b[0;32m--> 193\u001b[0;31m     \u001b[0;32mreturn\u001b[0m \u001b[0mds\u001b[0m\u001b[0;34m.\u001b[0m\u001b[0mopen\u001b[0m\u001b[0;34m(\u001b[0m\u001b[0mpath\u001b[0m\u001b[0;34m,\u001b[0m \u001b[0mmode\u001b[0m\u001b[0;34m,\u001b[0m \u001b[0mencoding\u001b[0m\u001b[0;34m=\u001b[0m\u001b[0mencoding\u001b[0m\u001b[0;34m,\u001b[0m \u001b[0mnewline\u001b[0m\u001b[0;34m=\u001b[0m\u001b[0mnewline\u001b[0m\u001b[0;34m)\u001b[0m\u001b[0;34m\u001b[0m\u001b[0;34m\u001b[0m\u001b[0m\n\u001b[0m\u001b[1;32m    194\u001b[0m \u001b[0;34m\u001b[0m\u001b[0m\n\u001b[1;32m    195\u001b[0m \u001b[0;34m\u001b[0m\u001b[0m\n",
            "\u001b[0;32m/usr/local/lib/python3.7/dist-packages/numpy/lib/_datasource.py\u001b[0m in \u001b[0;36mopen\u001b[0;34m(self, path, mode, encoding, newline)\u001b[0m\n\u001b[1;32m    531\u001b[0m                                       encoding=encoding, newline=newline)\n\u001b[1;32m    532\u001b[0m         \u001b[0;32melse\u001b[0m\u001b[0;34m:\u001b[0m\u001b[0;34m\u001b[0m\u001b[0;34m\u001b[0m\u001b[0m\n\u001b[0;32m--> 533\u001b[0;31m             \u001b[0;32mraise\u001b[0m \u001b[0mIOError\u001b[0m\u001b[0;34m(\u001b[0m\u001b[0;34m\"%s not found.\"\u001b[0m \u001b[0;34m%\u001b[0m \u001b[0mpath\u001b[0m\u001b[0;34m)\u001b[0m\u001b[0;34m\u001b[0m\u001b[0;34m\u001b[0m\u001b[0m\n\u001b[0m\u001b[1;32m    534\u001b[0m \u001b[0;34m\u001b[0m\u001b[0m\n\u001b[1;32m    535\u001b[0m \u001b[0;34m\u001b[0m\u001b[0m\n",
            "\u001b[0;31mOSError\u001b[0m: model_TrafficSignModelFeatures_bs512_lr0.006_epoch9_train_err.csv not found."
          ]
        }
      ]
    },
    {
      "cell_type": "markdown",
      "source": [
        "## Jordan just playing around to try to get a dataloader object\n",
        "I'm using Lab 2 as a guide"
      ],
      "metadata": {
        "id": "RglKHhQ0EC1M"
      }
    },
    {
      "cell_type": "markdown",
      "source": [
        "Figuring out the structure of the dataset"
      ],
      "metadata": {
        "id": "0gTPskEHI89Y"
      }
    },
    {
      "cell_type": "code",
      "source": [
        "print(type(gtsrb_data))\n",
        "print(gtsrb_data)\n",
        "print(len(gtsrb_data))\n",
        "print(gtsrb_data[10000][1])"
      ],
      "metadata": {
        "id": "_8iq5EPABv2J"
      },
      "execution_count": null,
      "outputs": []
    },
    {
      "cell_type": "markdown",
      "source": [
        "Using some helper functions that I've slightly modified from Lab 2"
      ],
      "metadata": {
        "id": "MM_1SnduI_lE"
      }
    },
    {
      "cell_type": "code",
      "source": [
        "def get_relevant_indices(dataset, classes, target_classes):\n",
        "    \"\"\" Return the indices for datapoints in the dataset that belongs to the\n",
        "    desired target classes, a subset of all possible classes.\n",
        "\n",
        "    Args:\n",
        "        dataset: Dataset object\n",
        "        classes: A list of strings denoting the name of each class\n",
        "        target_classes: A list of strings denoting the name of desired classes\n",
        "                        Should be a subset of the 'classes'\n",
        "    Returns:\n",
        "        indices: list of indices that have labels corresponding to one of the\n",
        "                 target classes\n",
        "    \"\"\"\n",
        "    indices = []\n",
        "    for i in range(len(dataset)):\n",
        "        # Check if the label is in the target classes\n",
        "        label_index = dataset[i][1] # ex: 3\n",
        "        # label_class = classes[label_index] # ex: 'cat'\n",
        "        if label_index in target_classes:\n",
        "            indices.append(i)\n",
        "    return indices\n",
        "\n",
        "def get_data_loader(target_classes, batch_size):\n",
        "    \"\"\" Loads images of signs, splits the data into training, validation\n",
        "    and testing datasets. Returns data loaders for the three preprocessed datasets.\n",
        "\n",
        "    Args:\n",
        "        target_classes: A list of ints denoting the index of the desired\n",
        "                        classes. Should be a subset of the argument 'classes'\n",
        "        batch_size: A int representing the number of samples per batch\n",
        "    \n",
        "    Returns:\n",
        "        train_loader: iterable training dataset organized according to batch size\n",
        "        val_loader: iterable validation dataset organized according to batch size\n",
        "        test_loader: iterable testing dataset organized according to batch size\n",
        "        classes: A list of ints denoting the index of each class\n",
        "    \"\"\"\n",
        "\n",
        "    classes = tuple(range(0,43))\n",
        "    ########################################################################\n",
        "    # The output of torchvision datasets are PILImage images of range [0, 1].\n",
        "    # We transform them to Tensors of normalized range [-1, 1].\n",
        "    transform = transforms.Compose(\n",
        "        [transforms.ToTensor(),\n",
        "         transforms.Normalize((0.5, 0.5, 0.5), (0.5, 0.5, 0.5))])\n",
        "    # Load GTSRB training data\n",
        "    trainset = torchvision.datasets.GTSRB(root='./data', split='train', transform=transform, download=True)\n",
        "    # Get the list of indices to sample from\n",
        "    relevant_indices = get_relevant_indices(trainset, classes, target_classes)\n",
        "    \n",
        "    # Split into train and validation\n",
        "    np.random.seed(1000) # Fixed numpy random seed for reproducible shuffling\n",
        "    np.random.shuffle(relevant_indices)\n",
        "    split = int(len(relevant_indices) * 0.8) #split at 80%\n",
        "    \n",
        "    # split into training and validation indices\n",
        "    relevant_train_indices, relevant_val_indices = relevant_indices[:split], relevant_indices[split:]  \n",
        "    train_sampler = SubsetRandomSampler(relevant_train_indices)\n",
        "    train_loader = torch.utils.data.DataLoader(trainset, batch_size=batch_size,\n",
        "                                               num_workers=1, sampler=train_sampler)\n",
        "    val_sampler = SubsetRandomSampler(relevant_val_indices)\n",
        "    val_loader = torch.utils.data.DataLoader(trainset, batch_size=batch_size,\n",
        "                                              num_workers=1, sampler=val_sampler)\n",
        "    # Load GTSRB testing data\n",
        "    testset = torchvision.datasets.GTSRB(root='./data', split='test', transform=transform, download=True)\n",
        "    # Get the list of indices to sample from\n",
        "    relevant_test_indices = get_relevant_indices(testset, classes, target_classes)\n",
        "    test_sampler = SubsetRandomSampler(relevant_test_indices)\n",
        "    test_loader = torch.utils.data.DataLoader(testset, batch_size=batch_size,\n",
        "                                             num_workers=1, sampler=test_sampler)\n",
        "    return train_loader, val_loader, test_loader, classes"
      ],
      "metadata": {
        "id": "PMcCU1TfEJ_7"
      },
      "execution_count": 18,
      "outputs": []
    },
    {
      "cell_type": "code",
      "source": [
        "classes = tuple(range(0,43))\n",
        "target_classes = (0,)\n",
        "print(type(classes[0]))\n",
        "print(classes)\n",
        "indices_class_0 = get_relevant_indices(gtsrb_data, classes, target_classes)\n",
        "print(indices_class_0) # Now I have the indices in gtsrb_data of ClassId=0\n",
        "\n",
        "# Get data loaders for training, validation, and test sets (images are only of ClassId=0)\n",
        "train_loader, val_loader, test_loader, classes = get_data_loader(target_classes, batch_size=5)"
      ],
      "metadata": {
        "id": "6fhhJ_GRFEQI",
        "colab": {
          "base_uri": "https://localhost:8080/",
          "height": 357
        },
        "outputId": "89fe96b2-f007-469b-a001-c625853af0b8"
      },
      "execution_count": 19,
      "outputs": [
        {
          "output_type": "stream",
          "name": "stdout",
          "text": [
            "<class 'int'>\n",
            "(0, 1, 2, 3, 4, 5, 6, 7, 8, 9, 10, 11, 12, 13, 14, 15, 16, 17, 18, 19, 20, 21, 22, 23, 24, 25, 26, 27, 28, 29, 30, 31, 32, 33, 34, 35, 36, 37, 38, 39, 40, 41, 42)\n"
          ]
        },
        {
          "output_type": "error",
          "ename": "NameError",
          "evalue": "ignored",
          "traceback": [
            "\u001b[0;31m---------------------------------------------------------------------------\u001b[0m",
            "\u001b[0;31mNameError\u001b[0m                                 Traceback (most recent call last)",
            "\u001b[0;32m<ipython-input-19-092790945feb>\u001b[0m in \u001b[0;36m<module>\u001b[0;34m\u001b[0m\n\u001b[1;32m      3\u001b[0m \u001b[0mprint\u001b[0m\u001b[0;34m(\u001b[0m\u001b[0mtype\u001b[0m\u001b[0;34m(\u001b[0m\u001b[0mclasses\u001b[0m\u001b[0;34m[\u001b[0m\u001b[0;36m0\u001b[0m\u001b[0;34m]\u001b[0m\u001b[0;34m)\u001b[0m\u001b[0;34m)\u001b[0m\u001b[0;34m\u001b[0m\u001b[0;34m\u001b[0m\u001b[0m\n\u001b[1;32m      4\u001b[0m \u001b[0mprint\u001b[0m\u001b[0;34m(\u001b[0m\u001b[0mclasses\u001b[0m\u001b[0;34m)\u001b[0m\u001b[0;34m\u001b[0m\u001b[0;34m\u001b[0m\u001b[0m\n\u001b[0;32m----> 5\u001b[0;31m \u001b[0mindices_class_0\u001b[0m \u001b[0;34m=\u001b[0m \u001b[0mget_relevant_indices\u001b[0m\u001b[0;34m(\u001b[0m\u001b[0mgtsrb_data\u001b[0m\u001b[0;34m,\u001b[0m \u001b[0mclasses\u001b[0m\u001b[0;34m,\u001b[0m \u001b[0mtarget_classes\u001b[0m\u001b[0;34m)\u001b[0m\u001b[0;34m\u001b[0m\u001b[0;34m\u001b[0m\u001b[0m\n\u001b[0m\u001b[1;32m      6\u001b[0m \u001b[0mprint\u001b[0m\u001b[0;34m(\u001b[0m\u001b[0mindices_class_0\u001b[0m\u001b[0;34m)\u001b[0m \u001b[0;31m# Now I have the indices in gtsrb_data of ClassId=0\u001b[0m\u001b[0;34m\u001b[0m\u001b[0;34m\u001b[0m\u001b[0m\n\u001b[1;32m      7\u001b[0m \u001b[0;34m\u001b[0m\u001b[0m\n",
            "\u001b[0;31mNameError\u001b[0m: name 'gtsrb_data' is not defined"
          ]
        }
      ]
    },
    {
      "cell_type": "code",
      "source": [
        "# Playing around with data loaders I created above\n",
        "print(len(train_loader)) # There are 24 batches (5 images/batch) in the train loader -> This is 120 images which is 80% of 150!\n",
        "print(len(val_loader)) # There are 6 batches (5 images/batch) in the val loader -> This is 30 images which is 20% of 150\n",
        "print(len(test_loader)) # There are 12 batches (5 images/batch) in the test loader -> This is 60 images"
      ],
      "metadata": {
        "id": "SIr_MqG5P1Wi"
      },
      "execution_count": null,
      "outputs": []
    },
    {
      "cell_type": "markdown",
      "source": [
        "Next I'll try to plot some of the images, just to see what we're working with\n",
        "\n",
        "I don't think this is working because the images are of different sizes, we'll have to figure out what we're doing about this."
      ],
      "metadata": {
        "id": "wyiDh_OrQg1F"
      }
    },
    {
      "cell_type": "code",
      "source": [
        "k = 0\n",
        "for images, labels in enumerate(train_loader):\n",
        "    # since batch_size = 5, there are 5 images in 'images'\n",
        "    for i in range(0,5):\n",
        "      image = images[i]\n",
        "      # place the colour channel at the end, instead of at the beginning\n",
        "      img = np.transpose(image, [1,2,0])\n",
        "      # normalize pixel intensity values to [0, 1]\n",
        "      img = img / 2 + 0.5\n",
        "      plt.subplot(3, 5, k+1)\n",
        "      plt.axis('off')\n",
        "      plt.imshow(img)\n",
        "\n",
        "    k += 1\n",
        "    if k > 14:\n",
        "        break"
      ],
      "metadata": {
        "id": "TbPtVo8hRhrR"
      },
      "execution_count": null,
      "outputs": []
    },
    {
      "cell_type": "markdown",
      "source": [
        "**Helper Functions**\n",
        "\n",
        "Will need functions to\n",
        "\n",
        "\n",
        "*   Get model name (for training)\n",
        "*   Evaluate network on validation set\n",
        "*   Plot the training curves\n",
        "\n",
        "\n"
      ],
      "metadata": {
        "id": "egEbz8G-zjoM"
      }
    },
    {
      "cell_type": "markdown",
      "source": [
        "**Define Model Architecture**"
      ],
      "metadata": {
        "id": "w_KzPXjrkPwH"
      }
    },
    {
      "cell_type": "code",
      "source": [
        "class TrafficSignModel(nn.Module):\n",
        "  def __init__(self):\n",
        "     super(TrafficSignModel, self).__init__()\n",
        "     self.name = \"TrafficSignModel\"\n",
        "     self.conv1 = nn.Conv2d(3, 5, 5) # 3 input channels, 5 output channels, kernel size of 5\n",
        "     self.pool = nn.MaxPool2d(2, 2), # kernel size of 2, stride of 2\n",
        "     self.conv2 = nn.Conv2d(5, 10, 5), # 5 input channels, 10 output channels, kernel size of 5\n",
        "     self.fc1 = nn.Linear() # Will need to figure out these dimensions (based on input dimensions of image - how are we handling this?)\n",
        "     self.fc2 = nn.Linear() # Will need to figure out these dimensions (based on how many different classes we are working with - do we know?)\n",
        "         \n",
        "  def forward(self, x):\n",
        "    x = self.pool(F.relu(self.conv1(x)))\n",
        "    x = self.pool(F.relu(self.conv2(x)))\n",
        "    x = x.view(-1, ) # Will need to figure out these dimensions - see above\n",
        "    x = F.relu(self.fc1(x))\n",
        "    x = self.fc2(x)\n",
        "    x = x.squeeze(1) # Flatten to [batch_size]\n",
        "    return x"
      ],
      "metadata": {
        "id": "4JOOPHI2e32S"
      },
      "execution_count": 14,
      "outputs": []
    },
    {
      "cell_type": "markdown",
      "source": [
        "**Training**\n",
        "\n",
        "Function to train the neural network\n",
        "Need to decide loss function and optimizer\n",
        "\n",
        "A lot of this code can be adopted from the Labs and tutorials"
      ],
      "metadata": {
        "id": "vcKCZzFM0FNv"
      }
    },
    {
      "cell_type": "markdown",
      "source": [
        "## Katherine trying to augment the data"
      ],
      "metadata": {
        "id": "hAcXNqEFygYy"
      }
    },
    {
      "cell_type": "code",
      "source": [
        "augmented_datasets = []\n",
        "\n",
        "my_transform = transforms.Compose([\n",
        "    transforms.RandomRotation(25),\n",
        "    transforms.ToTensor(),\n",
        "])\n",
        "\n",
        "for _ in range(2):\n",
        "    gtsrb_new = datasets.GTSRB('data', download=True, transform=my_transform)\n",
        "    augmented_datasets.append(gtsrb_new)\n",
        "\n",
        "concat = torch.utils.data.ConcatDataset(augmented_datasets)"
      ],
      "metadata": {
        "id": "D2mlKZzVbOdn"
      },
      "execution_count": 23,
      "outputs": []
    },
    {
      "cell_type": "code",
      "source": [
        "# mount our Google Drive\n",
        "from google.colab import drive\n",
        "drive.mount('/content/drive')"
      ],
      "metadata": {
        "id": "Y_Ww0BuCsn1W",
        "outputId": "047138c1-c579-4792-be9f-3b3e7b1098f7",
        "colab": {
          "base_uri": "https://localhost:8080/"
        }
      },
      "execution_count": 14,
      "outputs": [
        {
          "output_type": "stream",
          "name": "stdout",
          "text": [
            "Mounted at /content/drive\n"
          ]
        }
      ]
    },
    {
      "cell_type": "markdown",
      "source": [
        "## Introduce motion blur"
      ],
      "metadata": {
        "id": "aFasSvi-VoCH"
      }
    },
    {
      "cell_type": "code",
      "source": [
        "# Add a shrunken version of the image to the image"
      ],
      "metadata": {
        "id": "h7eIHqNaVnU0"
      },
      "execution_count": null,
      "outputs": []
    },
    {
      "cell_type": "code",
      "source": [
        "train_data = get_train_loader(img_size=256)\n",
        "\n",
        "for i, data in enumerate(train_data):\n",
        "  plt.subplot(1, 3, 1)\n",
        "  img, label = data\n",
        "  plt.imshow(img[0].permute(1,2,0))\n",
        "\n",
        "  plt.subplot(1, 3, 2)\n",
        "  blur_layer = transforms.functional.center_crop(img[0], 236)\n",
        "  blur_layer = transforms.functional.resize(blur_layer, 256)\n",
        "  plt.imshow(blur_layer.permute(1,2,0))\n",
        "\n",
        "  plt.subplot(1, 3, 3)\n",
        "  merge = img[0]*0.5+blur_layer*0.5\n",
        "  plt.imshow(merge.permute(1,2,0))\n",
        "\n",
        "\n",
        "  if i>=0:\n",
        "    break"
      ],
      "metadata": {
        "colab": {
          "base_uri": "https://localhost:8080/",
          "height": 150
        },
        "id": "-RwBkx43XDvc",
        "outputId": "894ce164-948e-4afe-e254-346e69592605"
      },
      "execution_count": 18,
      "outputs": [
        {
          "output_type": "display_data",
          "data": {
            "text/plain": [
              "<Figure size 432x288 with 3 Axes>"
            ],
            "image/png": "[encoded data removed]"
          },
          "metadata": {
            "needs_background": "light"
          }
        }
      ]
    },
    {
      "cell_type": "code",
      "source": [
        "pip install opensimplex"
      ],
      "metadata": {
        "colab": {
          "base_uri": "https://localhost:8080/"
        },
        "id": "kZIm3wHKzuwp",
        "outputId": "0cb8aef4-fe7c-42aa-c8fd-dc996f3923ee"
      },
      "execution_count": 19,
      "outputs": [
        {
          "output_type": "stream",
          "name": "stdout",
          "text": [
            "Looking in indexes: https://pypi.org/simple, https://us-python.pkg.dev/colab-wheels/public/simple/\n",
            "Collecting opensimplex\n",
            "  Downloading opensimplex-0.4.2-py3-none-any.whl (17 kB)\n",
            "Requirement already satisfied: numpy>=1.20 in /usr/local/lib/python3.7/dist-packages (from opensimplex) (1.21.6)\n",
            "Installing collected packages: opensimplex\n",
            "Successfully installed opensimplex-0.4.2\n"
          ]
        }
      ]
    },
    {
      "cell_type": "code",
      "source": [
        "import opensimplex\n",
        "import numpy as np"
      ],
      "metadata": {
        "id": "Gkj8Bd1Mz7Pe"
      },
      "execution_count": 20,
      "outputs": []
    },
    {
      "cell_type": "code",
      "source": [
        "brown_rgb = np.array([139,69,19])/256\n",
        "brown = torch.from_numpy(np.full((256,256,3), brown_rgb))\n",
        "white = torch.from_numpy(np.full((256,256,3), 1.0))"
      ],
      "metadata": {
        "id": "KUZkJUeV4k3C"
      },
      "execution_count": 21,
      "outputs": []
    },
    {
      "cell_type": "code",
      "source": [
        "plt.imshow(s*brown)"
      ],
      "metadata": {
        "colab": {
          "base_uri": "https://localhost:8080/",
          "height": 210
        },
        "id": "KceFx6k2CY9A",
        "outputId": "3b62c3db-8664-4e20-f387-4c92f973f117"
      },
      "execution_count": 22,
      "outputs": [
        {
          "output_type": "error",
          "ename": "NameError",
          "evalue": "ignored",
          "traceback": [
            "\u001b[0;31m---------------------------------------------------------------------------\u001b[0m",
            "\u001b[0;31mNameError\u001b[0m                                 Traceback (most recent call last)",
            "\u001b[0;32m<ipython-input-22-682aed08ffe5>\u001b[0m in \u001b[0;36m<module>\u001b[0;34m\u001b[0m\n\u001b[0;32m----> 1\u001b[0;31m \u001b[0mplt\u001b[0m\u001b[0;34m.\u001b[0m\u001b[0mimshow\u001b[0m\u001b[0;34m(\u001b[0m\u001b[0ms\u001b[0m\u001b[0;34m*\u001b[0m\u001b[0mbrown\u001b[0m\u001b[0;34m)\u001b[0m\u001b[0;34m\u001b[0m\u001b[0;34m\u001b[0m\u001b[0m\n\u001b[0m",
            "\u001b[0;31mNameError\u001b[0m: name 's' is not defined"
          ]
        }
      ]
    },
    {
      "cell_type": "code",
      "source": [
        "def generate_simplex_noise(feature_size = 40):\n",
        "  im = np.zeros([256,256])\n",
        "  for y in range(0, 256):\n",
        "      for x in range(0, 256):\n",
        "          value = opensimplex.noise2(x / feature_size, y / feature_size)\n",
        "          color = (value + 1) * 0.5\n",
        "          im[x,y] = color\n",
        "  s = torch.from_numpy(np.full([3, 256,256], im)).permute(1,2,0)\n",
        "\n",
        "  return s\n"
      ],
      "metadata": {
        "id": "Tf2TkDFZD445"
      },
      "execution_count": 23,
      "outputs": []
    },
    {
      "cell_type": "code",
      "source": [
        "def get_simplex_dirt(s):\n",
        "  brown_rgb = np.array([139,69,19])/256\n",
        "  brown = torch.from_numpy(np.full((256,256,3), brown_rgb))\n",
        "\n",
        "  plt.imshow(s*brown)\n",
        "  return brown*0.1 +0.9 *s*brown"
      ],
      "metadata": {
        "id": "mJjAvfzah3lI"
      },
      "execution_count": 26,
      "outputs": []
    },
    {
      "cell_type": "code",
      "source": [
        "s = generate_simplex_noise(feature_size = 100)\n",
        "dirt = get_simplex_dirt(s)\n",
        "plt.imshow(img[0].permute(1,2,0)*(1-s) + dirt)"
      ],
      "metadata": {
        "colab": {
          "base_uri": "https://localhost:8080/",
          "height": 287
        },
        "id": "rf7twogkFCGw",
        "outputId": "268b0676-3938-4dfc-cc14-bd591126550e"
      },
      "execution_count": 28,
      "outputs": [
        {
          "output_type": "execute_result",
          "data": {
            "text/plain": [
              "<matplotlib.image.AxesImage at 0x7f8f91f7fa90>"
            ]
          },
          "metadata": {},
          "execution_count": 28
        },
        {
          "output_type": "display_data",
          "data": {
            "text/plain": [
              "<Figure size 432x288 with 1 Axes>"
            ],
            "image/png": "[encoded data removed]"
          },
          "metadata": {
            "needs_background": "light"
          }
        }
      ]
    },
    {
      "cell_type": "code",
      "source": [
        "plt.imshow(img[0].permute(1,2,0))"
      ],
      "metadata": {
        "colab": {
          "base_uri": "https://localhost:8080/",
          "height": 287
        },
        "id": "hR3CUs1KjAnk",
        "outputId": "722bf1d2-687a-41c5-b91c-c2e37f68767e"
      },
      "execution_count": 29,
      "outputs": [
        {
          "output_type": "execute_result",
          "data": {
            "text/plain": [
              "<matplotlib.image.AxesImage at 0x7f8f91ee5c50>"
            ]
          },
          "metadata": {},
          "execution_count": 29
        },
        {
          "output_type": "display_data",
          "data": {
            "text/plain": [
              "<Figure size 432x288 with 1 Axes>"
            ],
            "image/png": "[encoded data removed]"
          },
          "metadata": {
            "needs_background": "light"
          }
        }
      ]
    },
    {
      "cell_type": "code",
      "source": [
        "# Get a subset of random images\n",
        "# Feed to SyRa\n",
        "# Select random output images to add to dataset\n",
        "# Convert these to alexnet features"
      ],
      "metadata": {
        "id": "7siwcUBwPmiI"
      },
      "execution_count": null,
      "outputs": []
    },
    {
      "cell_type": "code",
      "source": [
        "!pip install munch\n",
        "!pip install ffmpeg"
      ],
      "metadata": {
        "colab": {
          "base_uri": "https://localhost:8080/"
        },
        "id": "WfqK7I4bRLxN",
        "outputId": "1a6b597d-7ddc-4afe-f686-3d3de04d6d50"
      },
      "execution_count": 8,
      "outputs": [
        {
          "output_type": "stream",
          "name": "stdout",
          "text": [
            "Looking in indexes: https://pypi.org/simple, https://us-python.pkg.dev/colab-wheels/public/simple/\n",
            "Collecting munch\n",
            "  Downloading munch-2.5.0-py2.py3-none-any.whl (10 kB)\n",
            "Requirement already satisfied: six in /usr/local/lib/python3.7/dist-packages (from munch) (1.15.0)\n",
            "Installing collected packages: munch\n",
            "Successfully installed munch-2.5.0\n",
            "Looking in indexes: https://pypi.org/simple, https://us-python.pkg.dev/colab-wheels/public/simple/\n",
            "Collecting ffmpeg\n",
            "  Downloading ffmpeg-1.4.tar.gz (5.1 kB)\n",
            "Building wheels for collected packages: ffmpeg\n",
            "  Building wheel for ffmpeg (setup.py) ... \u001b[?25l\u001b[?25hdone\n",
            "  Created wheel for ffmpeg: filename=ffmpeg-1.4-py3-none-any.whl size=6085 sha256=ce89152720ff5c6adf2f356dac633e9e239a59e61d980617097f938bd479fba9\n",
            "  Stored in directory: /root/.cache/pip/wheels/64/80/6e/caa3e16deb0267c3cbfd36862058a724144e19fdb9eb03af0f\n",
            "Successfully built ffmpeg\n",
            "Installing collected packages: ffmpeg\n",
            "Successfully installed ffmpeg-1.4\n"
          ]
        }
      ]
    },
    {
      "cell_type": "code",
      "source": [
        "import munch\n",
        "import ffmpeg"
      ],
      "metadata": {
        "id": "EIYaPw7tRWQy"
      },
      "execution_count": 9,
      "outputs": []
    },
    {
      "cell_type": "code",
      "source": [
        "data_transform = transforms.Compose([transforms.Resize((256,256)), \n",
        "                                         transforms.ToTensor()])\n",
        "\n",
        "data = datasets.GTSRB('data', download=True, split=\"train\",\n",
        "                          transform=data_transform)\n",
        "  "
      ],
      "metadata": {
        "id": "k6jtzWsBeSoF"
      },
      "execution_count": 60,
      "outputs": []
    },
    {
      "cell_type": "code",
      "source": [
        "os.listdir()"
      ],
      "metadata": {
        "colab": {
          "base_uri": "https://localhost:8080/"
        },
        "id": "_ldt4sQxeZXq",
        "outputId": "bc8879fb-583a-463d-adf8-6c24f2b7c6b1"
      },
      "execution_count": 13,
      "outputs": [
        {
          "output_type": "execute_result",
          "data": {
            "text/plain": [
              "['main.py',\n",
              " 'README.md',\n",
              " '.gitignore',\n",
              " 'expr',\n",
              " '.DS_Store',\n",
              " 'core',\n",
              " 'data',\n",
              " 'assets']"
            ]
          },
          "metadata": {},
          "execution_count": 13
        }
      ]
    },
    {
      "cell_type": "code",
      "source": [
        "os.chdir('drive/MyDrive/APS360/Project/SyRa-Synthesized_Rain_dataset-main')"
      ],
      "metadata": {
        "id": "xaDR2GM-28cl",
        "colab": {
          "base_uri": "https://localhost:8080/",
          "height": 246
        },
        "outputId": "3b958f08-dedd-4464-f239-a9d54ff53fb7"
      },
      "execution_count": 11,
      "outputs": [
        {
          "output_type": "error",
          "ename": "FileNotFoundError",
          "evalue": "ignored",
          "traceback": [
            "\u001b[0;31m---------------------------------------------------------------------------\u001b[0m",
            "\u001b[0;31mFileNotFoundError\u001b[0m                         Traceback (most recent call last)",
            "\u001b[0;32m<ipython-input-11-c25208e7ccaa>\u001b[0m in \u001b[0;36m<module>\u001b[0;34m\u001b[0m\n\u001b[0;32m----> 1\u001b[0;31m \u001b[0mos\u001b[0m\u001b[0;34m.\u001b[0m\u001b[0mchdir\u001b[0m\u001b[0;34m(\u001b[0m\u001b[0;34m'drive/MyDrive/APS360/Project/SyRa-Synthesized_Rain_dataset-main'\u001b[0m\u001b[0;34m)\u001b[0m\u001b[0;34m\u001b[0m\u001b[0;34m\u001b[0m\u001b[0m\n\u001b[0m",
            "\u001b[0;31mFileNotFoundError\u001b[0m: [Errno 2] No such file or directory: 'drive/MyDrive/APS360/Project/SyRa-Synthesized_Rain_dataset-main'"
          ]
        }
      ]
    },
    {
      "cell_type": "code",
      "source": [
        "img.shape[0]"
      ],
      "metadata": {
        "colab": {
          "base_uri": "https://localhost:8080/",
          "height": 210
        },
        "id": "smPqhaQh26l0",
        "outputId": "b1848e93-a46d-42db-8e56-a53f12fb1a84"
      },
      "execution_count": 17,
      "outputs": [
        {
          "output_type": "error",
          "ename": "NameError",
          "evalue": "ignored",
          "traceback": [
            "\u001b[0;31m---------------------------------------------------------------------------\u001b[0m",
            "\u001b[0;31mNameError\u001b[0m                                 Traceback (most recent call last)",
            "\u001b[0;32m<ipython-input-17-fb064479935c>\u001b[0m in \u001b[0;36m<module>\u001b[0;34m\u001b[0m\n\u001b[0;32m----> 1\u001b[0;31m \u001b[0mimg\u001b[0m\u001b[0;34m.\u001b[0m\u001b[0mshape\u001b[0m\u001b[0;34m[\u001b[0m\u001b[0;36m0\u001b[0m\u001b[0;34m]\u001b[0m\u001b[0;34m\u001b[0m\u001b[0;34m\u001b[0m\u001b[0m\n\u001b[0m",
            "\u001b[0;31mNameError\u001b[0m: name 'img' is not defined"
          ]
        }
      ]
    },
    {
      "cell_type": "code",
      "source": [
        "train_data = get_train_loader(img_size=256,batch_size = 2664)\n",
        "\n",
        "for i, data in enumerate(train_data):\n",
        "  img, label = data\n",
        "  # for j in range(img.shape[0]):\n",
        "  #   torchvision.utils.save_image(img[j,:,:,:], 'assets/folder_of_your_data/folder_of_your_data/{}_{}.png'.format(i,j))\n",
        "  if i>=0:\n",
        "    break"
      ],
      "metadata": {
        "colab": {
          "base_uri": "https://localhost:8080/",
          "height": 134,
          "referenced_widgets": [
            "3048028cd2c4407fad507558767c3707",
            "422603f61e854c9ab474b64a0247c7cf",
            "18c922afcaed4757b63bbeaa96707cca",
            "a3063e81cabb4c7d93e22a3193f286d0",
            "da56ac6eaee14bee906187fca86bba73",
            "214389796232437a93f1331a5b4da398",
            "d2a4963420e744eda8de838c5638946e",
            "a924c3308e7741218388e07b62fefa85",
            "91d0781675424dacb90df89dff58bd9f",
            "1770b1c10958414aa7c91a42789d01df",
            "b7120bb224144e8c8c7c8e1af0aefaa4"
          ]
        },
        "id": "yo5LKA-OSc4M",
        "outputId": "62c45f67-0fd7-467d-ce0d-ea7314cdfda9"
      },
      "execution_count": 7,
      "outputs": [
        {
          "output_type": "stream",
          "name": "stdout",
          "text": [
            "Downloading https://sid.erda.dk/public/archives/daaeac0d7ce1152aea9b61d9f1e19370/GTSRB-Training_fixed.zip to data/gtsrb/GTSRB-Training_fixed.zip\n"
          ]
        },
        {
          "output_type": "display_data",
          "data": {
            "text/plain": [
              "  0%|          | 0/187490228 [00:00<?, ?it/s]"
            ],
            "application/vnd.jupyter.widget-view+json": {
              "version_major": 2,
              "version_minor": 0,
              "model_id": "3048028cd2c4407fad507558767c3707"
            }
          },
          "metadata": {}
        },
        {
          "output_type": "stream",
          "name": "stdout",
          "text": [
            "Extracting data/gtsrb/GTSRB-Training_fixed.zip to data/gtsrb\n"
          ]
        }
      ]
    },
    {
      "cell_type": "markdown",
      "source": [
        "\\\n",
        "\n",
        "*   List item\n",
        "*   List item\n",
        "\n"
      ],
      "metadata": {
        "id": "1EWWSfMaP8XE"
      }
    },
    {
      "cell_type": "code",
      "source": [
        "os.listdir('')"
      ],
      "metadata": {
        "colab": {
          "base_uri": "https://localhost:8080/"
        },
        "id": "m1FZJC9HO8WJ",
        "outputId": "828a8c72-94b0-4c13-a6c4-ea64ba73f3d2"
      },
      "execution_count": 13,
      "outputs": [
        {
          "output_type": "execute_result",
          "data": {
            "text/plain": [
              "['.config', 'data', 'sample_data']"
            ]
          },
          "metadata": {},
          "execution_count": 13
        }
      ]
    },
    {
      "cell_type": "code",
      "source": [
        "i=0\n",
        "for j in range(img.shape[0]):\n",
        "  torchvision.utils.save_image(img[j,:,:,:], 'assets/folder_of_your_data/folder_of_your_data/{}_{}.png'.format(i,j))"
      ],
      "metadata": {
        "id": "7tpCqlYH8DB7"
      },
      "execution_count": 22,
      "outputs": []
    },
    {
      "cell_type": "code",
      "source": [
        "%%shell\n",
        "python main.py --img_size 256 --mode syn --checkpoint_dir expr/checkpoint/SyRa --out_dir expr/result --data folder_of_your_data --resume_iter 100000"
      ],
      "metadata": {
        "id": "cyGDEPOkz2lh",
        "colab": {
          "base_uri": "https://localhost:8080/"
        },
        "outputId": "c4c3a592-d86c-48b5-a714-10eb9a7cc7a9"
      },
      "execution_count": null,
      "outputs": [
        {
          "output_type": "stream",
          "name": "stdout",
          "text": [
            "CUDA_number : 0\n",
            "Namespace(batch_size=8, beta1=0.01, beta2=0.99, checkpoint_dir='expr/checkpoint/SyRa', data='folder_of_your_data', ds_iter=150000, eval_dir='expr/eval/SyRa', f_lr=1e-06, gpu=0, gt=1, hidden_dim=512, img_size=256, lambda_NPMI=0.1, lambda_SGD=0.1, lambda_cyc=1, lambda_ds=1, lambda_reg=1, lambda_sty=1, latent_dim=16, lm_path='expr/checkpoints/celeba_lm_mean.npz', lr=0.0001, mode='syn', num_domains=2, num_outs_per_domain=5, num_workers=4, out_dir='expr/result', print_every=10, rain_dir='assets', randcrop_prob=0.5, ref_dir='assets/representative/yose/ref', result_dir='expr/results', resume_iter=100000, sample_dir='expr/samples/SyRa', sample_every=10000, save_every=10000, seed=777, src_dir='assets/representative/yose/src', style_dim=64, total_iters=100000, train_img_dir='data/rains/train', val_batch_size=10, val_img_dir='data/rains/val', w_hpf=0, weight_decay=0.0001, wing_path='expr/checkpoints/wing.ckpt')\n",
            "Number of parameters of generator: 33991564\n",
            "Number of parameters of mapping_network: 2438272\n",
            "Number of parameters of style_encoder: 20916928\n",
            "Number of parameters of discriminator: 20852290\n",
            "Initializing generator...\n",
            "Initializing mapping_network...\n",
            "Initializing style_encoder...\n",
            "Initializing discriminator...\n",
            "Preparing DataLoader for the generation phase...\n",
            "/usr/local/lib/python3.7/dist-packages/torch/utils/data/dataloader.py:566: UserWarning: This DataLoader will create 4 worker processes in total. Our suggested max number of worker in current system is 2, which is smaller than what this DataLoader is going to create. Please be aware that excessive worker creation might get DataLoader running slow or even freeze, lower the worker number to avoid potential slowness/freeze if necessary.\n",
            "  cpuset_checked))\n",
            "Loading checkpoint from expr/checkpoint/SyRa/100000_nets_ema.ckpt...\n",
            " 59% 161/273 [4:52:22<3:23:07, 108.82s/it]"
          ]
        }
      ]
    },
    {
      "cell_type": "code",
      "source": [
        "augmented_datasets = []\n",
        "\n",
        "my_transform = transforms.Compose([\n",
        "    transforms.RandomAffine(25, translate =(0.05, 0.05), scale = (1,1.1), shear=10),\n",
        "    transforms.ToTensor(),\n",
        "])\n",
        "\n",
        "gtsrb_new = datasets.GTSRB('data', download=True, transform=my_transform)\n",
        "augmented_datasets.append(gtsrb_new)\n",
        "\n",
        "concat = torch.utils.data.ConcatDataset(augmented_datasets)"
      ],
      "metadata": {
        "colab": {
          "base_uri": "https://localhost:8080/"
        },
        "id": "Kk6q_pffQOAk",
        "outputId": "2f76e335-3b74-403a-afbd-c4509e0557d8"
      },
      "execution_count": 25,
      "outputs": [
        {
          "output_type": "execute_result",
          "data": {
            "text/plain": [
              "2144"
            ]
          },
          "metadata": {},
          "execution_count": 25
        }
      ]
    },
    {
      "cell_type": "code",
      "source": [
        "for i in range(43):\n",
        "  os.mkdir(data_dir+\"Affine_Train_Features/\"+str(i))"
      ],
      "metadata": {
        "id": "VrwqlSZpc8R_"
      },
      "execution_count": 33,
      "outputs": []
    },
    {
      "cell_type": "code",
      "source": [
        "#train_loader = get_train_loader(batch_size=1, img_size=256, affine_transform=True)\n",
        "\n",
        "for image, label in train_loader:\n",
        "  plt.imshow(image[0].permute([1,2,0]))\n",
        "  break;"
      ],
      "metadata": {
        "id": "kIHdvGjZdMaK",
        "outputId": "3cf88f82-ab1d-4795-f2a1-0b64f724552e",
        "colab": {
          "base_uri": "https://localhost:8080/",
          "height": 269
        }
      },
      "execution_count": 74,
      "outputs": [
        {
          "output_type": "display_data",
          "data": {
            "text/plain": [
              "<Figure size 432x288 with 1 Axes>"
            ],
            "image/png": "[encoded data removed]"
          },
          "metadata": {
            "needs_background": "light"
          }
        }
      ]
    },
    {
      "cell_type": "code",
      "source": [
        "# Save Alexnet features\n",
        "import torchvision.models\n",
        "alexnet = torchvision.models.alexnet(pretrained=True)\n",
        "\n",
        "feature_train_loader = []\n",
        "feature_val_loader = []\n",
        "feature_test_loader = []\n",
        "\n",
        "\n",
        "train_loader = get_train_loader(batch_size=1, img_size=256, affine_transform=True)\n",
        "data_dir = 'drive/MyDrive/APS360/Project/AlexNet_Features/'\n",
        "i=0\n",
        "for image, label in train_loader:\n",
        "  feature = alexnet.features(image)\n",
        "  torch.save(feature[0], data_dir+\"Affine_Train_Features/\"+str(label.item())+\"/train_feature_\"+str(i)+\".pt\")\n",
        "  i +=1"
      ],
      "metadata": {
        "id": "9XrddxsuaVWb",
        "outputId": "bd13d691-5393-4e62-af12-441412c3ce80",
        "colab": {
          "base_uri": "https://localhost:8080/"
        }
      },
      "execution_count": 75,
      "outputs": [
        {
          "metadata": {
            "tags": null
          },
          "name": "stderr",
          "output_type": "stream",
          "text": [
            "/usr/local/lib/python3.7/dist-packages/torchvision/models/_utils.py:209: UserWarning: The parameter 'pretrained' is deprecated since 0.13 and will be removed in 0.15, please use 'weights' instead.\n",
            "  f\"The parameter '{pretrained_param}' is deprecated since 0.13 and will be removed in 0.15, \"\n",
            "/usr/local/lib/python3.7/dist-packages/torchvision/models/_utils.py:223: UserWarning: Arguments other than a weight enum or `None` for 'weights' are deprecated since 0.13 and will be removed in 0.15. The current behavior is equivalent to passing `weights=AlexNet_Weights.IMAGENET1K_V1`. You can also use `weights=AlexNet_Weights.DEFAULT` to get the most up-to-date weights.\n",
            "  warnings.warn(msg)\n"
          ]
        }
      ]
    },
    {
      "cell_type": "code",
      "source": [
        "for i in range(43):\n",
        "  os.mkdir(data_dir+\"Val_Features/\"+str(i))"
      ],
      "metadata": {
        "id": "j9gJ95fNVCjn",
        "colab": {
          "base_uri": "https://localhost:8080/",
          "height": 228
        },
        "outputId": "0b7e40b4-17a3-47b2-c20e-0c88ea8354f6"
      },
      "execution_count": 17,
      "outputs": [
        {
          "output_type": "error",
          "ename": "NameError",
          "evalue": "ignored",
          "traceback": [
            "\u001b[0;31m---------------------------------------------------------------------------\u001b[0m",
            "\u001b[0;31mNameError\u001b[0m                                 Traceback (most recent call last)",
            "\u001b[0;32m<ipython-input-17-3921c184efd1>\u001b[0m in \u001b[0;36m<module>\u001b[0;34m\u001b[0m\n\u001b[1;32m      1\u001b[0m \u001b[0;32mfor\u001b[0m \u001b[0mi\u001b[0m \u001b[0;32min\u001b[0m \u001b[0mrange\u001b[0m\u001b[0;34m(\u001b[0m\u001b[0;36m43\u001b[0m\u001b[0;34m)\u001b[0m\u001b[0;34m:\u001b[0m\u001b[0;34m\u001b[0m\u001b[0;34m\u001b[0m\u001b[0m\n\u001b[0;32m----> 2\u001b[0;31m   \u001b[0mos\u001b[0m\u001b[0;34m.\u001b[0m\u001b[0mmkdir\u001b[0m\u001b[0;34m(\u001b[0m\u001b[0mdata_dir\u001b[0m\u001b[0;34m+\u001b[0m\u001b[0;34m\"Val_Features/\"\u001b[0m\u001b[0;34m+\u001b[0m\u001b[0mstr\u001b[0m\u001b[0;34m(\u001b[0m\u001b[0mi\u001b[0m\u001b[0;34m)\u001b[0m\u001b[0;34m)\u001b[0m\u001b[0;34m\u001b[0m\u001b[0;34m\u001b[0m\u001b[0m\n\u001b[0m",
            "\u001b[0;31mNameError\u001b[0m: name 'data_dir' is not defined"
          ]
        }
      ]
    }
  ]
}